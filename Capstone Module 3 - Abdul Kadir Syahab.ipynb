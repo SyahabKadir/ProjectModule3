{
 "cells": [
  {
   "cell_type": "markdown",
   "metadata": {},
   "source": [
    "# Saudi Arabia Used Cars"
   ]
  },
  {
   "cell_type": "markdown",
   "metadata": {},
   "source": [
    "**[Source : Saudi Arabia Used Cars](https://drive.google.com/file/d/1Tr4YT5dmgwTrXLvIqZ4diBf5z8K6JjrR/view)*\n",
    "\n",
    "### **Contents**\n",
    "\n",
    "1. Business Problem\n",
    "2. Data Understanding\n",
    "3. Data Cleaning\n",
    "4. Data Analysis\n",
    "5. Feature Engineering\n",
    "6. Modeling\n",
    "7. Conclusion\n",
    "8. Recommendation\n",
    "\n",
    "****"
   ]
  },
  {
   "cell_type": "markdown",
   "metadata": {},
   "source": [
    "## 1. Business Problem"
   ]
  },
  {
   "cell_type": "markdown",
   "metadata": {},
   "source": [
    "In this step, we get challenges and issues faced by a business. These may prevent a business from executing strategy and achieving goals. In some cases, business problems also threaten the long term survival of a firm."
   ]
  },
  {
   "cell_type": "markdown",
   "metadata": {},
   "source": [
    "### Context\n",
    "Saudi Arabia is the Middle East’s largest country. Based on the statistics in 2018 around 12.6 million expats lived there, comprising 37.7% of the total population (around 33 million). As many expats that working in Saudi Arabia, there is many factory from another country. For example is a car factory.\n",
    "\n",
    "A car factory is really high-good demand in Saudi Arabia. This caused by the price of fuel itself. The fuel in Saudi Arabia is the one of the nice-lower price on the world. Back on this car factory demand, there is many Used Car Factory / Website that selling the second-use Car. The problem is, there is so many type the car (based on; brand, gear type, engine size, mileage, options and year) so it's really challenging for selling itself to predicting the price of the used cars.\n",
    "\n",
    "The used car market is a fair weather thing. It fluctuates based on any number of factors whether real (or in some cases imagined) just like any other market. After a booming market, it seems that used car prices may start to dip soon. So, the poblem is how to get the best price to sell or to buy so we don't get the wrong made decision. Based on that, we might have to predicted the Price of used cars on the dataset that contains features(variables) on it."
   ]
  },
  {
   "cell_type": "markdown",
   "metadata": {},
   "source": [
    "### Problem Statement\n",
    "\n",
    "In this issue, the biggest problem from the marketplace is how to sell the used-cars on Saudi Arabia so they are not selling it overprice and underprice. Overprice will made costumers not interested to buy the car, underprice will made loss-profit on their business.\n",
    "\n",
    "Marketplace definitely wants a big profit by selling the price of used cars on the persist price based on the type, mileage, options etc. How to made a competitive price is the one of the problem to made a big profit on their business."
   ]
  },
  {
   "cell_type": "markdown",
   "metadata": {},
   "source": [
    "### Goals\n",
    "\n",
    "Based on the problem statement above, marketplace definitely need have a tool that can predicted the `Price` of used cars to determine the best price of selling the used-cars. This should be difficult to stakeholders/marketplace to made a decision byself because there are to many kind, variety of car, type of car etc. By this Prediction, would might be helper/tool for the marketplace/stakeholder to made a decision."
   ]
  },
  {
   "cell_type": "markdown",
   "metadata": {},
   "source": [
    "### Analytic Approach\n",
    "\n",
    "By this issue, we will analyze the data to be able to find the patterns of existing features which differentiate one car to other.\n",
    "\n",
    "In the next, we will made a regression model to help the marketplace as a tool for made a better and best decision on a predicted the price of used cars. Surely we want to made a good model to helped the marketplace and statisfied the costumers to buy on their channel."
   ]
  },
  {
   "cell_type": "markdown",
   "metadata": {},
   "source": [
    "### Evaluation Metric\n",
    "\n",
    "Evaluation metric that will be used in this model are MSE (Mean Squared Error), RMSE (Root of Mean Squared Error) cause (the value is usually interpreted as either how far (on average) the residuals are from zero or as the average distance between the observed values and the model predictions) and R-squared (persentage) as a value of the prediction model."
   ]
  },
  {
   "cell_type": "markdown",
   "metadata": {},
   "source": [
    "****"
   ]
  },
  {
   "cell_type": "markdown",
   "metadata": {},
   "source": [
    "## 2. Data Understanding"
   ]
  },
  {
   "cell_type": "markdown",
   "metadata": {},
   "source": [
    "In this step, we will understanding the data such as; read the dataset, giving the descripton of variable (attributes of the data) due to seek the better understand data assets and manage accordingly."
   ]
  },
  {
   "cell_type": "code",
   "execution_count": 533,
   "metadata": {},
   "outputs": [],
   "source": [
    "# Import library for exploring dataset\n",
    "import pandas as pd \n",
    "import numpy as np\n",
    "import matplotlib.pyplot as plt\n",
    "import seaborn as sns\n",
    "\n",
    "# To ignores the warnings\n",
    "import warnings\n",
    "warnings.filterwarnings('ignore')\n",
    "\n",
    "\n",
    "# To change Scientific Notation to Decimal Format\n",
    "pd.options.display.float_format = '{:.1f}'.format"
   ]
  },
  {
   "cell_type": "markdown",
   "metadata": {},
   "source": [
    "### Read the dataset"
   ]
  },
  {
   "cell_type": "code",
   "execution_count": 534,
   "metadata": {},
   "outputs": [],
   "source": [
    "# Read the dataset\n",
    "df = pd.read_csv('data_saudi_used_cars.csv')"
   ]
  },
  {
   "cell_type": "code",
   "execution_count": 535,
   "metadata": {},
   "outputs": [
    {
     "name": "stdout",
     "output_type": "stream",
     "text": [
      "<class 'pandas.core.frame.DataFrame'>\n",
      "RangeIndex: 5624 entries, 0 to 5623\n",
      "Data columns (total 11 columns):\n",
      " #   Column       Non-Null Count  Dtype  \n",
      "---  ------       --------------  -----  \n",
      " 0   Type         5624 non-null   object \n",
      " 1   Region       5624 non-null   object \n",
      " 2   Make         5624 non-null   object \n",
      " 3   Gear_Type    5624 non-null   object \n",
      " 4   Origin       5624 non-null   object \n",
      " 5   Options      5624 non-null   object \n",
      " 6   Year         5624 non-null   int64  \n",
      " 7   Engine_Size  5624 non-null   float64\n",
      " 8   Mileage      5624 non-null   int64  \n",
      " 9   Negotiable   5624 non-null   bool   \n",
      " 10  Price        5624 non-null   int64  \n",
      "dtypes: bool(1), float64(1), int64(3), object(6)\n",
      "memory usage: 445.0+ KB\n"
     ]
    }
   ],
   "source": [
    "# Check data-type for each variable & anomalies\n",
    "df.info()"
   ]
  },
  {
   "cell_type": "markdown",
   "metadata": {},
   "source": [
    "### Variable Description\n",
    "\n",
    "- `Type` : The type of used car\n",
    "\n",
    "- `Region` : The region of used car\n",
    "\n",
    "- `Make` : The company name of used car\n",
    "\n",
    "- `Gear_Type` : The gear type size of used car\n",
    "\n",
    "- `Origin` : The origin of used car\n",
    "\n",
    "- `Options` : The options of used car\n",
    "\n",
    "- `Year` : The manufacturing year of used car\n",
    "\n",
    "- `Engine_Size` : The engine size of used car\n",
    "\n",
    "- `Mileage` : The mileage of used car\n",
    "\n",
    "- `Negotiable` : The negotiable status of used car\n",
    "\n",
    "- `Price` : The price of used car (Riyal)\n",
    "\n",
    "**!!** `Price` column is our target because we want to predict it. While the other columns will be our predictor variables for predicting the `Price`"
   ]
  },
  {
   "cell_type": "code",
   "execution_count": 536,
   "metadata": {},
   "outputs": [
    {
     "data": {
      "text/html": [
       "<div>\n",
       "<style scoped>\n",
       "    .dataframe tbody tr th:only-of-type {\n",
       "        vertical-align: middle;\n",
       "    }\n",
       "\n",
       "    .dataframe tbody tr th {\n",
       "        vertical-align: top;\n",
       "    }\n",
       "\n",
       "    .dataframe thead th {\n",
       "        text-align: right;\n",
       "    }\n",
       "</style>\n",
       "<table border=\"1\" class=\"dataframe\">\n",
       "  <thead>\n",
       "    <tr style=\"text-align: right;\">\n",
       "      <th></th>\n",
       "      <th>Type</th>\n",
       "      <th>Region</th>\n",
       "      <th>Make</th>\n",
       "      <th>Gear_Type</th>\n",
       "      <th>Origin</th>\n",
       "      <th>Options</th>\n",
       "      <th>Year</th>\n",
       "      <th>Engine_Size</th>\n",
       "      <th>Mileage</th>\n",
       "      <th>Negotiable</th>\n",
       "      <th>Price</th>\n",
       "    </tr>\n",
       "  </thead>\n",
       "  <tbody>\n",
       "    <tr>\n",
       "      <th>0</th>\n",
       "      <td>Corolla</td>\n",
       "      <td>Abha</td>\n",
       "      <td>Toyota</td>\n",
       "      <td>Manual</td>\n",
       "      <td>Saudi</td>\n",
       "      <td>Standard</td>\n",
       "      <td>2013</td>\n",
       "      <td>1.4</td>\n",
       "      <td>421000</td>\n",
       "      <td>True</td>\n",
       "      <td>0</td>\n",
       "    </tr>\n",
       "    <tr>\n",
       "      <th>1</th>\n",
       "      <td>Yukon</td>\n",
       "      <td>Riyadh</td>\n",
       "      <td>GMC</td>\n",
       "      <td>Automatic</td>\n",
       "      <td>Saudi</td>\n",
       "      <td>Full</td>\n",
       "      <td>2014</td>\n",
       "      <td>8.0</td>\n",
       "      <td>80000</td>\n",
       "      <td>False</td>\n",
       "      <td>120000</td>\n",
       "    </tr>\n",
       "    <tr>\n",
       "      <th>2</th>\n",
       "      <td>Range Rover</td>\n",
       "      <td>Riyadh</td>\n",
       "      <td>Land Rover</td>\n",
       "      <td>Automatic</td>\n",
       "      <td>Gulf Arabic</td>\n",
       "      <td>Full</td>\n",
       "      <td>2015</td>\n",
       "      <td>5.0</td>\n",
       "      <td>140000</td>\n",
       "      <td>False</td>\n",
       "      <td>260000</td>\n",
       "    </tr>\n",
       "    <tr>\n",
       "      <th>3</th>\n",
       "      <td>Optima</td>\n",
       "      <td>Hafar Al-Batin</td>\n",
       "      <td>Kia</td>\n",
       "      <td>Automatic</td>\n",
       "      <td>Saudi</td>\n",
       "      <td>Semi Full</td>\n",
       "      <td>2015</td>\n",
       "      <td>2.4</td>\n",
       "      <td>220000</td>\n",
       "      <td>False</td>\n",
       "      <td>42000</td>\n",
       "    </tr>\n",
       "    <tr>\n",
       "      <th>4</th>\n",
       "      <td>FJ</td>\n",
       "      <td>Riyadh</td>\n",
       "      <td>Toyota</td>\n",
       "      <td>Automatic</td>\n",
       "      <td>Saudi</td>\n",
       "      <td>Full</td>\n",
       "      <td>2020</td>\n",
       "      <td>4.0</td>\n",
       "      <td>49000</td>\n",
       "      <td>True</td>\n",
       "      <td>0</td>\n",
       "    </tr>\n",
       "  </tbody>\n",
       "</table>\n",
       "</div>"
      ],
      "text/plain": [
       "          Type          Region        Make  Gear_Type       Origin    Options  \\\n",
       "0      Corolla            Abha      Toyota     Manual        Saudi   Standard   \n",
       "1        Yukon          Riyadh         GMC  Automatic        Saudi       Full   \n",
       "2  Range Rover          Riyadh  Land Rover  Automatic  Gulf Arabic       Full   \n",
       "3       Optima  Hafar Al-Batin         Kia  Automatic        Saudi  Semi Full   \n",
       "4           FJ          Riyadh      Toyota  Automatic        Saudi       Full   \n",
       "\n",
       "   Year  Engine_Size  Mileage  Negotiable   Price  \n",
       "0  2013          1.4   421000        True       0  \n",
       "1  2014          8.0    80000       False  120000  \n",
       "2  2015          5.0   140000       False  260000  \n",
       "3  2015          2.4   220000       False   42000  \n",
       "4  2020          4.0    49000        True       0  "
      ]
     },
     "execution_count": 536,
     "metadata": {},
     "output_type": "execute_result"
    }
   ],
   "source": [
    "# View the first 5 rows of the data\n",
    "df.head()"
   ]
  },
  {
   "cell_type": "markdown",
   "metadata": {},
   "source": [
    "As we can see that the `Price` column has some **0** value, which is impossible and we will fixing this later"
   ]
  },
  {
   "cell_type": "markdown",
   "metadata": {},
   "source": [
    "### Exploratory Data Analysis"
   ]
  },
  {
   "cell_type": "markdown",
   "metadata": {},
   "source": [
    "Exploratory data analysis is applied to investigate the data and summarize the key insights. It will give us the basic understanding of our data, it's distribution, null values and much more. So we do the Exploratory Data Analysis (EDA) to our data for better understanding."
   ]
  },
  {
   "cell_type": "markdown",
   "metadata": {},
   "source": [
    "As we mentioned before, the column `Price` is the target variable and rest of the columns are independent variables. The independent variables are again divided into Categorical and Numerical variabels.\n",
    "\n",
    "Hereby we seperate each of type the variabel itself\n",
    "- **Numerical Variabels** : Year, Engine_Size, Mileage, Price\n",
    "- **Categorical Variabels** : Type, Region, Make, Gear_Type, Origin, Options, Negotiable"
   ]
  },
  {
   "cell_type": "markdown",
   "metadata": {},
   "source": [
    "**Numerical Variabels**\n",
    "\n",
    "For the Numerical Variabels, we can get the insight and correlation by Pair Plot. Because Pair Plot plotting all the pair of all the numerical variabels on the list so we can see the correlation each numerical variable."
   ]
  },
  {
   "cell_type": "code",
   "execution_count": 537,
   "metadata": {
    "scrolled": false
   },
   "outputs": [
    {
     "data": {
      "text/plain": [
       "<seaborn.axisgrid.PairGrid at 0x23f127eb130>"
      ]
     },
     "execution_count": 537,
     "metadata": {},
     "output_type": "execute_result"
    },
    {
     "data": {
      "image/png": "[encoded data removed]",
      "text/plain": [
       "<Figure size 864x720 with 20 Axes>"
      ]
     },
     "metadata": {
      "needs_background": "light"
     },
     "output_type": "display_data"
    }
   ],
   "source": [
    "# Pairplot all the numerical variabel\n",
    "sns.pairplot(df[['Year','Engine_Size','Mileage','Price']], aspect=1.2)"
   ]
  },
  {
   "cell_type": "markdown",
   "metadata": {},
   "source": [
    "**Insight** : \n",
    "\n",
    "as we can see from the pairplot graph above, there is; high correlation & low correlation one to each other variabel\n",
    "- **Year** : Engine_Size (Low Correlation), Mileage (High Correlation), Price (High Correlation)\n",
    "- **Engine_Size** : Year (Low Correlation), Mileage (Low Correlation), Price (Low Correlation)\n",
    "- **Mileage** : Year (High Correlation), Engine_Size (Low Correlation), Price (Low Correlation)\n",
    "- **Price** : Year (High Correlation), Engine_Size (Low Correlation), Mileage (Low Correlation) "
   ]
  },
  {
   "cell_type": "markdown",
   "metadata": {},
   "source": [
    "**Categorical Variabels**\n",
    "\n",
    "For the Categorical Variabels, we will analyze the value on each category for exploratoring and summarize the category itself. We will do a rank and counts on it, so we can see What is the most company of used cars, what is the most type of used cars, which region is the highest of using used cars, where are from the used cars origin etc."
   ]
  },
  {
   "cell_type": "markdown",
   "metadata": {},
   "source": [
    "**Top 10 Company of Used Cars & Top 10 Type of Used Cars**"
   ]
  },
  {
   "cell_type": "code",
   "execution_count": 538,
   "metadata": {},
   "outputs": [
    {
     "data": {
      "image/png": "[encoded data removed]",
      "text/plain": [
       "<Figure size 1080x504 with 2 Axes>"
      ]
     },
     "metadata": {
      "needs_background": "light"
     },
     "output_type": "display_data"
    }
   ],
   "source": [
    "# Show the top 10 Company & Type of used cars\n",
    "plt.figure(figsize=(15,7))\n",
    "\n",
    "plt.subplot(1,2,1)\n",
    "sns.countplot(x=df['Make'], order = df['Make'].value_counts().iloc[:10].index)\n",
    "plt.title('Top 10 Company of Used Cars', size = 15)\n",
    "plt.xticks(rotation = 30, size = 10)\n",
    "\n",
    "plt.subplot(1,2,2)\n",
    "sns.countplot(x=df['Type'], order = df['Type'].value_counts().iloc[:10].index)\n",
    "plt.title('Top 10 Type of Used Cars', size = 15)\n",
    "plt.xticks(rotation = 30, size = 10)\n",
    "\n",
    "plt.show()"
   ]
  },
  {
   "cell_type": "markdown",
   "metadata": {},
   "source": [
    "The graph above shows us that Toyota is the most produced of used cars than the other company. This is so related because in the Top 10 Type of Used Cars is filled with Toyota Type Cars (Land Cruiser, Campry, Hilux & Corolla). On the other hand, Hyundai made a secod most produced of used cars with their Accent, Sonata and Elantra. So, based on this graph we can see the correlation between **Categorical Variable**; Make and Type"
   ]
  },
  {
   "cell_type": "markdown",
   "metadata": {},
   "source": [
    "**Top 10 Region of Used Cars & Origi of Used Cars**"
   ]
  },
  {
   "cell_type": "code",
   "execution_count": 539,
   "metadata": {},
   "outputs": [
    {
     "data": {
      "image/png": "[encoded data removed]",
      "text/plain": [
       "<Figure size 1080x504 with 2 Axes>"
      ]
     },
     "metadata": {
      "needs_background": "light"
     },
     "output_type": "display_data"
    }
   ],
   "source": [
    "# Show the top 10 Company & Type of used cars\n",
    "plt.figure(figsize=(15,7))\n",
    "\n",
    "plt.subplot(1,2,1)\n",
    "sns.countplot(x=df['Region'], order = df['Region'].value_counts().iloc[:10].index)\n",
    "plt.title('Top 10 Region of Used Cars', size = 15)\n",
    "plt.xticks(rotation = 30, size = 10)\n",
    "\n",
    "plt.subplot(1,2,2)\n",
    "sns.countplot(x=df['Origin'], order = df['Origin'].value_counts().index)\n",
    "plt.title('Origin of Used Cars', size = 15)\n",
    "plt.xticks(rotation = 30, size = 10)\n",
    "\n",
    "plt.show()"
   ]
  },
  {
   "cell_type": "markdown",
   "metadata": {},
   "source": [
    "As we can see that Riyadh is the most Region of used cars (more than 2000 cars) while Saudi is the most of Origin of used cars (more than 4000 cars). Seem this graph had a correlation each other. But let's we look at the other side. There are `Unknown` and `Other` variable on Origin graph. This will make our data becomes redundant and noisy. For this issue, we notes that the data on `Unknown` variable will we move on `Other` variable on the **Data Cleaning** step."
   ]
  },
  {
   "cell_type": "markdown",
   "metadata": {},
   "source": [
    "**Type & Amount of Gear Type, Options & Negotiable on Used Cars**"
   ]
  },
  {
   "cell_type": "code",
   "execution_count": 540,
   "metadata": {},
   "outputs": [
    {
     "name": "stdout",
     "output_type": "stream",
     "text": [
      "Type & Amount of Gear Type on Used Cars :\n",
      "Automatic    4875\n",
      "Manual        749\n",
      "Name: Gear_Type, dtype: int64\n",
      "\n",
      "Type & Amount of Options on Used Cars :\n",
      "Full         2233\n",
      "Standard     1822\n",
      "Semi Full    1569\n",
      "Name: Options, dtype: int64\n",
      "\n",
      "Type & Amount of Negotiable on Used Cars :\n",
      "False    3828\n",
      "True     1796\n",
      "Name: Negotiable, dtype: int64\n"
     ]
    }
   ],
   "source": [
    "# Check type & amount of Gear Type, Options & Negotiable on Used Cars\n",
    "print(f\"Type & Amount of Gear Type on Used Cars :\\n{df['Gear_Type'].value_counts()}\")\n",
    "print(f\"\\nType & Amount of Options on Used Cars :\\n{df['Options'].value_counts()}\")\n",
    "print(f\"\\nType & Amount of Negotiable on Used Cars :\\n{df['Negotiable'].value_counts()}\")"
   ]
  },
  {
   "cell_type": "markdown",
   "metadata": {},
   "source": [
    "Based on the data above, we can tell that :\n",
    "- The Used Cars is dominated by Automatic Gear Type\n",
    "- There are three types of Options on Used Cars : Full (2233), Standard (1822) and Semi Full (1569)\n",
    "- Many of the Used cars can't be negotiable"
   ]
  },
  {
   "cell_type": "markdown",
   "metadata": {},
   "source": [
    "****"
   ]
  },
  {
   "cell_type": "markdown",
   "metadata": {},
   "source": [
    "## 3 Data Cleaning"
   ]
  },
  {
   "cell_type": "markdown",
   "metadata": {},
   "source": [
    "In this step, we will process of fixing or removing incorrect, corrupted, incorrectly formatted, duplicated, or incompleted data within a dataset. Having clean data will ultimately increase overall productivity and allow for the highest quality information in your decision-making"
   ]
  },
  {
   "cell_type": "markdown",
   "metadata": {},
   "source": [
    "### Check the detail of dataset"
   ]
  },
  {
   "cell_type": "code",
   "execution_count": 541,
   "metadata": {},
   "outputs": [],
   "source": [
    "# Make the duplicate of the dataset\n",
    "df_model = df.copy()"
   ]
  },
  {
   "cell_type": "code",
   "execution_count": 542,
   "metadata": {},
   "outputs": [
    {
     "data": {
      "text/html": [
       "<div>\n",
       "<style scoped>\n",
       "    .dataframe tbody tr th:only-of-type {\n",
       "        vertical-align: middle;\n",
       "    }\n",
       "\n",
       "    .dataframe tbody tr th {\n",
       "        vertical-align: top;\n",
       "    }\n",
       "\n",
       "    .dataframe thead th {\n",
       "        text-align: right;\n",
       "    }\n",
       "</style>\n",
       "<table border=\"1\" class=\"dataframe\">\n",
       "  <thead>\n",
       "    <tr style=\"text-align: right;\">\n",
       "      <th></th>\n",
       "      <th>dataFeatures</th>\n",
       "      <th>dataType</th>\n",
       "      <th>null</th>\n",
       "      <th>nullPct</th>\n",
       "      <th>unique</th>\n",
       "      <th>uniqueSample</th>\n",
       "    </tr>\n",
       "  </thead>\n",
       "  <tbody>\n",
       "    <tr>\n",
       "      <th>0</th>\n",
       "      <td>Type</td>\n",
       "      <td>object</td>\n",
       "      <td>0</td>\n",
       "      <td>0.0</td>\n",
       "      <td>347</td>\n",
       "      <td>[Sylvian Bus, Doblo]</td>\n",
       "    </tr>\n",
       "    <tr>\n",
       "      <th>1</th>\n",
       "      <td>Region</td>\n",
       "      <td>object</td>\n",
       "      <td>0</td>\n",
       "      <td>0.0</td>\n",
       "      <td>27</td>\n",
       "      <td>[Al-Namas, Riyadh]</td>\n",
       "    </tr>\n",
       "    <tr>\n",
       "      <th>2</th>\n",
       "      <td>Make</td>\n",
       "      <td>object</td>\n",
       "      <td>0</td>\n",
       "      <td>0.0</td>\n",
       "      <td>58</td>\n",
       "      <td>[Jaguar, Jeep]</td>\n",
       "    </tr>\n",
       "    <tr>\n",
       "      <th>3</th>\n",
       "      <td>Gear_Type</td>\n",
       "      <td>object</td>\n",
       "      <td>0</td>\n",
       "      <td>0.0</td>\n",
       "      <td>2</td>\n",
       "      <td>[Automatic, Manual]</td>\n",
       "    </tr>\n",
       "    <tr>\n",
       "      <th>4</th>\n",
       "      <td>Origin</td>\n",
       "      <td>object</td>\n",
       "      <td>0</td>\n",
       "      <td>0.0</td>\n",
       "      <td>4</td>\n",
       "      <td>[Gulf Arabic, Unknown]</td>\n",
       "    </tr>\n",
       "    <tr>\n",
       "      <th>5</th>\n",
       "      <td>Options</td>\n",
       "      <td>object</td>\n",
       "      <td>0</td>\n",
       "      <td>0.0</td>\n",
       "      <td>3</td>\n",
       "      <td>[Full, Standard]</td>\n",
       "    </tr>\n",
       "    <tr>\n",
       "      <th>6</th>\n",
       "      <td>Year</td>\n",
       "      <td>int64</td>\n",
       "      <td>0</td>\n",
       "      <td>0.0</td>\n",
       "      <td>50</td>\n",
       "      <td>[2015, 2001]</td>\n",
       "    </tr>\n",
       "    <tr>\n",
       "      <th>7</th>\n",
       "      <td>Engine_Size</td>\n",
       "      <td>float64</td>\n",
       "      <td>0</td>\n",
       "      <td>0.0</td>\n",
       "      <td>71</td>\n",
       "      <td>[1.9, 7.5]</td>\n",
       "    </tr>\n",
       "    <tr>\n",
       "      <th>8</th>\n",
       "      <td>Mileage</td>\n",
       "      <td>int64</td>\n",
       "      <td>0</td>\n",
       "      <td>0.0</td>\n",
       "      <td>1716</td>\n",
       "      <td>[181, 48000]</td>\n",
       "    </tr>\n",
       "    <tr>\n",
       "      <th>9</th>\n",
       "      <td>Negotiable</td>\n",
       "      <td>bool</td>\n",
       "      <td>0</td>\n",
       "      <td>0.0</td>\n",
       "      <td>2</td>\n",
       "      <td>[True, False]</td>\n",
       "    </tr>\n",
       "    <tr>\n",
       "      <th>10</th>\n",
       "      <td>Price</td>\n",
       "      <td>int64</td>\n",
       "      <td>0</td>\n",
       "      <td>0.0</td>\n",
       "      <td>467</td>\n",
       "      <td>[1630, 103000]</td>\n",
       "    </tr>\n",
       "  </tbody>\n",
       "</table>\n",
       "</div>"
      ],
      "text/plain": [
       "   dataFeatures dataType  null  nullPct  unique            uniqueSample\n",
       "0          Type   object     0      0.0     347    [Sylvian Bus, Doblo]\n",
       "1        Region   object     0      0.0      27      [Al-Namas, Riyadh]\n",
       "2          Make   object     0      0.0      58          [Jaguar, Jeep]\n",
       "3     Gear_Type   object     0      0.0       2     [Automatic, Manual]\n",
       "4        Origin   object     0      0.0       4  [Gulf Arabic, Unknown]\n",
       "5       Options   object     0      0.0       3        [Full, Standard]\n",
       "6          Year    int64     0      0.0      50            [2015, 2001]\n",
       "7   Engine_Size  float64     0      0.0      71              [1.9, 7.5]\n",
       "8       Mileage    int64     0      0.0    1716            [181, 48000]\n",
       "9    Negotiable     bool     0      0.0       2           [True, False]\n",
       "10        Price    int64     0      0.0     467          [1630, 103000]"
      ]
     },
     "execution_count": 542,
     "metadata": {},
     "output_type": "execute_result"
    }
   ],
   "source": [
    "# Check the dataset info more detail\n",
    "listItem = []\n",
    "\n",
    "for col in df_model.columns:\n",
    "    listItem.append([col, df_model[col].dtype, df_model[col].isna().sum(), round((df_model[col].isna().sum()/len(df_model[col]))*100, 2),\n",
    "                    df_model[col].nunique(), list(df_model[col].drop_duplicates().sample(2).values)]);\n",
    "\n",
    "df_model_desc = pd.DataFrame(columns=['dataFeatures', 'dataType', 'null', 'nullPct', 'unique', 'uniqueSample'],\n",
    "                     data=listItem)\n",
    "df_model_desc"
   ]
  },
  {
   "cell_type": "markdown",
   "metadata": {},
   "source": [
    "As we mentioned before that in the Origin variable, there is redundant data (Unknown & Other) because that mean the same each other on basic knowledge. So we will change (replace) the Unknown value to Other value cause it mean the same."
   ]
  },
  {
   "cell_type": "code",
   "execution_count": 543,
   "metadata": {},
   "outputs": [],
   "source": [
    "# Replace 'Unknown' to 'Other' on Origin variable\n",
    "df_model['Origin'] = df_model['Origin'].replace('Unknown','Other')"
   ]
  },
  {
   "cell_type": "code",
   "execution_count": 544,
   "metadata": {},
   "outputs": [
    {
     "data": {
      "text/plain": [
       "Saudi          4188\n",
       "Other           739\n",
       "Gulf Arabic     697\n",
       "Name: Origin, dtype: int64"
      ]
     },
     "execution_count": 544,
     "metadata": {},
     "output_type": "execute_result"
    }
   ],
   "source": [
    "df_model['Origin'].value_counts()"
   ]
  },
  {
   "cell_type": "markdown",
   "metadata": {},
   "source": [
    "### Check for Missing Value and Duplicated Rows"
   ]
  },
  {
   "cell_type": "code",
   "execution_count": 545,
   "metadata": {},
   "outputs": [
    {
     "data": {
      "image/png": "[encoded data removed]",
      "text/plain": [
       "<Figure size 432x288 with 1 Axes>"
      ]
     },
     "metadata": {
      "needs_background": "light"
     },
     "output_type": "display_data"
    }
   ],
   "source": [
    "# Create missing value heatmap\n",
    "sns.heatmap(df_model.isnull(), cbar=False);"
   ]
  },
  {
   "cell_type": "markdown",
   "metadata": {},
   "source": [
    "From the info of the dataset above, we can see that there is no missing value in our dataset. But we still must be observed in the term of deciding the best treatment for our model.\n",
    "\n",
    "We also must checking for any duplicate data in our dataset. Duplication means that we have repated data in our dataset. This could be due to things like data entry errors or data collection methods. Removing duplication will lead us to make a best observation we have."
   ]
  },
  {
   "cell_type": "code",
   "execution_count": 546,
   "metadata": {},
   "outputs": [
    {
     "name": "stdout",
     "output_type": "stream",
     "text": [
      "Number of duplicate rows:  4\n"
     ]
    }
   ],
   "source": [
    "# Check for duplicated rows\n",
    "print(\"Number of duplicate rows: \", sum(df_model.duplicated()))"
   ]
  },
  {
   "cell_type": "markdown",
   "metadata": {},
   "source": [
    "As we can see that there are 4 rows had been duplicated before. So we must delete (drop) the duplicated row for getting the clean data as we want."
   ]
  },
  {
   "cell_type": "code",
   "execution_count": 547,
   "metadata": {},
   "outputs": [
    {
     "name": "stdout",
     "output_type": "stream",
     "text": [
      "Number of duplicate rows:  0\n"
     ]
    }
   ],
   "source": [
    "# Drop duplicated rows\n",
    "df_model.drop_duplicates(inplace=True)\n",
    "print(\"Number of duplicate rows: \", sum(df_model.duplicated()))"
   ]
  },
  {
   "cell_type": "markdown",
   "metadata": {},
   "source": [
    "After we dropped the duplicated row, we must considering for doing dropped the column that we think will not use in the future. The row that we dropped is the row that had no no-big relevation to other column or our to model.\n",
    "- Based on domain knowledge, column `Negotiable` has no big relevation to other column. So that, we will dropped the column `Negotiable` first\n",
    "- We also limiting the extreme value of variable which that may effects to our model further **based on knowledge*"
   ]
  },
  {
   "cell_type": "markdown",
   "metadata": {},
   "source": [
    "### Delete unnecassarry column"
   ]
  },
  {
   "cell_type": "markdown",
   "metadata": {},
   "source": [
    "On this step, we will delete unnecassary column that we think it's not truely effect to our dataset and this could be from our based knowledge. As far as we known, that `Negotiable` doesn't have too much effect to other variable (Type - Negotiable, Region - Negotiable, Year - Negotiable). Based on this issue we could delete(drop) the 'Negotiable' because this may could getting too much information (overfitting) to our model."
   ]
  },
  {
   "cell_type": "code",
   "execution_count": 548,
   "metadata": {},
   "outputs": [
    {
     "data": {
      "text/html": [
       "<div>\n",
       "<style scoped>\n",
       "    .dataframe tbody tr th:only-of-type {\n",
       "        vertical-align: middle;\n",
       "    }\n",
       "\n",
       "    .dataframe tbody tr th {\n",
       "        vertical-align: top;\n",
       "    }\n",
       "\n",
       "    .dataframe thead th {\n",
       "        text-align: right;\n",
       "    }\n",
       "</style>\n",
       "<table border=\"1\" class=\"dataframe\">\n",
       "  <thead>\n",
       "    <tr style=\"text-align: right;\">\n",
       "      <th></th>\n",
       "      <th>Type</th>\n",
       "      <th>Region</th>\n",
       "      <th>Make</th>\n",
       "      <th>Gear_Type</th>\n",
       "      <th>Origin</th>\n",
       "      <th>Options</th>\n",
       "      <th>Year</th>\n",
       "      <th>Engine_Size</th>\n",
       "      <th>Mileage</th>\n",
       "      <th>Price</th>\n",
       "    </tr>\n",
       "  </thead>\n",
       "  <tbody>\n",
       "    <tr>\n",
       "      <th>0</th>\n",
       "      <td>Corolla</td>\n",
       "      <td>Abha</td>\n",
       "      <td>Toyota</td>\n",
       "      <td>Manual</td>\n",
       "      <td>Saudi</td>\n",
       "      <td>Standard</td>\n",
       "      <td>2013</td>\n",
       "      <td>1.4</td>\n",
       "      <td>421000</td>\n",
       "      <td>0</td>\n",
       "    </tr>\n",
       "    <tr>\n",
       "      <th>1</th>\n",
       "      <td>Yukon</td>\n",
       "      <td>Riyadh</td>\n",
       "      <td>GMC</td>\n",
       "      <td>Automatic</td>\n",
       "      <td>Saudi</td>\n",
       "      <td>Full</td>\n",
       "      <td>2014</td>\n",
       "      <td>8.0</td>\n",
       "      <td>80000</td>\n",
       "      <td>120000</td>\n",
       "    </tr>\n",
       "    <tr>\n",
       "      <th>2</th>\n",
       "      <td>Range Rover</td>\n",
       "      <td>Riyadh</td>\n",
       "      <td>Land Rover</td>\n",
       "      <td>Automatic</td>\n",
       "      <td>Gulf Arabic</td>\n",
       "      <td>Full</td>\n",
       "      <td>2015</td>\n",
       "      <td>5.0</td>\n",
       "      <td>140000</td>\n",
       "      <td>260000</td>\n",
       "    </tr>\n",
       "    <tr>\n",
       "      <th>3</th>\n",
       "      <td>Optima</td>\n",
       "      <td>Hafar Al-Batin</td>\n",
       "      <td>Kia</td>\n",
       "      <td>Automatic</td>\n",
       "      <td>Saudi</td>\n",
       "      <td>Semi Full</td>\n",
       "      <td>2015</td>\n",
       "      <td>2.4</td>\n",
       "      <td>220000</td>\n",
       "      <td>42000</td>\n",
       "    </tr>\n",
       "    <tr>\n",
       "      <th>4</th>\n",
       "      <td>FJ</td>\n",
       "      <td>Riyadh</td>\n",
       "      <td>Toyota</td>\n",
       "      <td>Automatic</td>\n",
       "      <td>Saudi</td>\n",
       "      <td>Full</td>\n",
       "      <td>2020</td>\n",
       "      <td>4.0</td>\n",
       "      <td>49000</td>\n",
       "      <td>0</td>\n",
       "    </tr>\n",
       "  </tbody>\n",
       "</table>\n",
       "</div>"
      ],
      "text/plain": [
       "          Type          Region        Make  Gear_Type       Origin    Options  \\\n",
       "0      Corolla            Abha      Toyota     Manual        Saudi   Standard   \n",
       "1        Yukon          Riyadh         GMC  Automatic        Saudi       Full   \n",
       "2  Range Rover          Riyadh  Land Rover  Automatic  Gulf Arabic       Full   \n",
       "3       Optima  Hafar Al-Batin         Kia  Automatic        Saudi  Semi Full   \n",
       "4           FJ          Riyadh      Toyota  Automatic        Saudi       Full   \n",
       "\n",
       "   Year  Engine_Size  Mileage   Price  \n",
       "0  2013          1.4   421000       0  \n",
       "1  2014          8.0    80000  120000  \n",
       "2  2015          5.0   140000  260000  \n",
       "3  2015          2.4   220000   42000  \n",
       "4  2020          4.0    49000       0  "
      ]
     },
     "execution_count": 548,
     "metadata": {},
     "output_type": "execute_result"
    }
   ],
   "source": [
    "# Delete unnecasarry column (Negotiable) for analysis\n",
    "df_model = df_model.drop(['Negotiable'], axis=1)\n",
    "df_model.head()"
   ]
  },
  {
   "cell_type": "markdown",
   "metadata": {},
   "source": [
    "As mentioned before, `Price` column has some 0 value, which is impossible. For these anomaly, we will drop the `Price`'s row contains 0 value."
   ]
  },
  {
   "cell_type": "code",
   "execution_count": 549,
   "metadata": {},
   "outputs": [
    {
     "name": "stdout",
     "output_type": "stream",
     "text": [
      "Number of Price with 0 value :  1796\n"
     ]
    }
   ],
   "source": [
    "# Check rows with Price represented as'0'\n",
    "print(\"Number of Price with 0 value : \",df_model[df_model['Price'] == 0]['Price'].count())"
   ]
  },
  {
   "cell_type": "markdown",
   "metadata": {},
   "source": [
    "Cause the Variable `Price` with 0 value is 1796 data (31,39% of the data), we must drop the `Price` variabel with 0 value cause this will be effect to our model in the next."
   ]
  },
  {
   "cell_type": "code",
   "execution_count": 550,
   "metadata": {},
   "outputs": [
    {
     "data": {
      "text/html": [
       "<div>\n",
       "<style scoped>\n",
       "    .dataframe tbody tr th:only-of-type {\n",
       "        vertical-align: middle;\n",
       "    }\n",
       "\n",
       "    .dataframe tbody tr th {\n",
       "        vertical-align: top;\n",
       "    }\n",
       "\n",
       "    .dataframe thead th {\n",
       "        text-align: right;\n",
       "    }\n",
       "</style>\n",
       "<table border=\"1\" class=\"dataframe\">\n",
       "  <thead>\n",
       "    <tr style=\"text-align: right;\">\n",
       "      <th></th>\n",
       "      <th>Type</th>\n",
       "      <th>Region</th>\n",
       "      <th>Make</th>\n",
       "      <th>Gear_Type</th>\n",
       "      <th>Origin</th>\n",
       "      <th>Options</th>\n",
       "      <th>Year</th>\n",
       "      <th>Engine_Size</th>\n",
       "      <th>Mileage</th>\n",
       "      <th>Price</th>\n",
       "    </tr>\n",
       "  </thead>\n",
       "  <tbody>\n",
       "    <tr>\n",
       "      <th>3131</th>\n",
       "      <td>Yukon</td>\n",
       "      <td>Jubail</td>\n",
       "      <td>GMC</td>\n",
       "      <td>Automatic</td>\n",
       "      <td>Saudi</td>\n",
       "      <td>Full</td>\n",
       "      <td>2019</td>\n",
       "      <td>5.3</td>\n",
       "      <td>50000</td>\n",
       "      <td>1</td>\n",
       "    </tr>\n",
       "    <tr>\n",
       "      <th>3992</th>\n",
       "      <td>G80</td>\n",
       "      <td>Riyadh</td>\n",
       "      <td>Genesis</td>\n",
       "      <td>Automatic</td>\n",
       "      <td>Other</td>\n",
       "      <td>Semi Full</td>\n",
       "      <td>2018</td>\n",
       "      <td>3.8</td>\n",
       "      <td>170000</td>\n",
       "      <td>500</td>\n",
       "    </tr>\n",
       "    <tr>\n",
       "      <th>4399</th>\n",
       "      <td>Yaris</td>\n",
       "      <td>Riyadh</td>\n",
       "      <td>Toyota</td>\n",
       "      <td>Automatic</td>\n",
       "      <td>Saudi</td>\n",
       "      <td>Standard</td>\n",
       "      <td>2018</td>\n",
       "      <td>1.5</td>\n",
       "      <td>100000</td>\n",
       "      <td>850</td>\n",
       "    </tr>\n",
       "    <tr>\n",
       "      <th>5128</th>\n",
       "      <td>Rio</td>\n",
       "      <td>Arar</td>\n",
       "      <td>Kia</td>\n",
       "      <td>Automatic</td>\n",
       "      <td>Saudi</td>\n",
       "      <td>Standard</td>\n",
       "      <td>2019</td>\n",
       "      <td>1.4</td>\n",
       "      <td>55500</td>\n",
       "      <td>884</td>\n",
       "    </tr>\n",
       "    <tr>\n",
       "      <th>3474</th>\n",
       "      <td>Yaris</td>\n",
       "      <td>Najran</td>\n",
       "      <td>Toyota</td>\n",
       "      <td>Automatic</td>\n",
       "      <td>Saudi</td>\n",
       "      <td>Standard</td>\n",
       "      <td>2019</td>\n",
       "      <td>1.6</td>\n",
       "      <td>85000</td>\n",
       "      <td>950</td>\n",
       "    </tr>\n",
       "  </tbody>\n",
       "</table>\n",
       "</div>"
      ],
      "text/plain": [
       "       Type  Region     Make  Gear_Type Origin    Options  Year  Engine_Size  \\\n",
       "3131  Yukon  Jubail      GMC  Automatic  Saudi       Full  2019          5.3   \n",
       "3992    G80  Riyadh  Genesis  Automatic  Other  Semi Full  2018          3.8   \n",
       "4399  Yaris  Riyadh   Toyota  Automatic  Saudi   Standard  2018          1.5   \n",
       "5128    Rio    Arar      Kia  Automatic  Saudi   Standard  2019          1.4   \n",
       "3474  Yaris  Najran   Toyota  Automatic  Saudi   Standard  2019          1.6   \n",
       "\n",
       "      Mileage  Price  \n",
       "3131    50000      1  \n",
       "3992   170000    500  \n",
       "4399   100000    850  \n",
       "5128    55500    884  \n",
       "3474    85000    950  "
      ]
     },
     "execution_count": 550,
     "metadata": {},
     "output_type": "execute_result"
    }
   ],
   "source": [
    "# Delete rows with Price represented as'0' and View another view the anomaly\n",
    "df_model = df_model[df_model['Price'] != 0]\n",
    "df_model.sort_values(by='Price', ascending=1, inplace=True)\n",
    "df_model.head()"
   ]
  },
  {
   "cell_type": "markdown",
   "metadata": {},
   "source": [
    "From the table above, we can see that there is no more 0 value on `Price` column. But we can see that our data may have another anomaly. It is impossible for selling the Used Cars; **Yukon - Auto - 2019 - 5.3 - 50000 miles** for 1 dollar. For this Anomaly, we will cut the extreme values that are outside the range of what is expected and unlike the another data.\n",
    "We will desciribing & ploting the `Price` column on dataset, so we can see the resume.\n",
    "\n",
    "According my reaserch to www.edmunds.com said that every car has mileage milestones. In brief, one of the most main factors affecting a used vehicle's price is `Mileage`. Based on that fact we can say the `Mileage` is really affects the Price of Used Cars. Above of all, we will see the outliers from each numerical variabel so we can decided what is we will do on the next step."
   ]
  },
  {
   "cell_type": "code",
   "execution_count": 551,
   "metadata": {},
   "outputs": [
    {
     "name": "stdout",
     "output_type": "stream",
     "text": [
      "<class 'pandas.core.frame.DataFrame'>\n",
      "Int64Index: 3824 entries, 3131 to 3513\n",
      "Data columns (total 10 columns):\n",
      " #   Column       Non-Null Count  Dtype  \n",
      "---  ------       --------------  -----  \n",
      " 0   Type         3824 non-null   object \n",
      " 1   Region       3824 non-null   object \n",
      " 2   Make         3824 non-null   object \n",
      " 3   Gear_Type    3824 non-null   object \n",
      " 4   Origin       3824 non-null   object \n",
      " 5   Options      3824 non-null   object \n",
      " 6   Year         3824 non-null   int64  \n",
      " 7   Engine_Size  3824 non-null   float64\n",
      " 8   Mileage      3824 non-null   int64  \n",
      " 9   Price        3824 non-null   int64  \n",
      "dtypes: float64(1), int64(3), object(6)\n",
      "memory usage: 328.6+ KB\n"
     ]
    }
   ],
   "source": [
    "# Recheck the dataset info\n",
    "df_model.info()"
   ]
  },
  {
   "cell_type": "markdown",
   "metadata": {},
   "source": [
    "### Find the outliers"
   ]
  },
  {
   "cell_type": "markdown",
   "metadata": {},
   "source": [
    "Before we're cutting the data, we will find the outliers first. Outliers truely have impact to our dataset. It will increase the error variance and reduces the power of statistical tests. It can cause bias and/or influence estimates. It can also impact the basic assumption of regression as well as other statistical models.\n",
    "\n",
    "But the challenges are; how we can detect the outliers? is there positive outliers and negative outliers on our dataset? how we cut the outliers & cleaning ourdataset without making our data is missing many information. This will be discussed on our project below."
   ]
  },
  {
   "cell_type": "markdown",
   "metadata": {},
   "source": [
    "Here we will see the distribution plot for each numerical variabel of dataset before we decided which row and column that we want to cut that might contains outliers."
   ]
  },
  {
   "cell_type": "code",
   "execution_count": 552,
   "metadata": {},
   "outputs": [
    {
     "data": {
      "image/png": "[encoded data removed]",
      "text/plain": [
       "<Figure size 1080x720 with 4 Axes>"
      ]
     },
     "metadata": {
      "needs_background": "light"
     },
     "output_type": "display_data"
    }
   ],
   "source": [
    "# Show distribution plot for each numerical variabel on dataset\n",
    "plt.figure(figsize=(15,10))\n",
    "\n",
    "plt.subplot(221)\n",
    "sns.distplot(df_model['Year'])\n",
    "plt.title('Year of Used Cars',fontsize=13)\n",
    "\n",
    "plt.subplot(222)\n",
    "sns.distplot(df_model['Engine_Size'])\n",
    "plt.title('Engine_Size of Used Cars',fontsize=13)\n",
    "\n",
    "plt.subplot(223)\n",
    "sns.distplot(df_model['Mileage'])\n",
    "plt.title('Mileage of Used Cars',fontsize=13)\n",
    "\n",
    "plt.subplot(224)\n",
    "sns.distplot(df_model['Price'])\n",
    "plt.title('Price of Used Cars',fontsize=13)\n",
    "\n",
    "plt.show()"
   ]
  },
  {
   "cell_type": "code",
   "execution_count": 553,
   "metadata": {},
   "outputs": [
    {
     "name": "stdout",
     "output_type": "stream",
     "text": [
      "Year Skew : -2.645640967990875 , Year Kurtosis : 12.440303365812376\n",
      "Engine_Size Skew : 0.7170561392706625 , Engine_Size Kurtosis : -0.059362333134416634\n",
      "Mileage Skew : 39.422345261243805 , Mileage Kurtosis : 1995.333501937911\n",
      "Price Skew : 3.096416044314816 , Price Kurtosis : 15.590055086179994\n"
     ]
    }
   ],
   "source": [
    "# Additional information for the graph\n",
    "from scipy.stats import skew\n",
    "from scipy.stats import kurtosis\n",
    "\n",
    "print(\"Year Skew :\",skew(df_model[\"Year\"]), \", Year Kurtosis :\",kurtosis(df_model[\"Year\"]))\n",
    "print(\"Engine_Size Skew :\",skew(df_model[\"Engine_Size\"]), \", Engine_Size Kurtosis :\",kurtosis(df_model[\"Engine_Size\"]))\n",
    "print(\"Mileage Skew :\",skew(df_model[\"Mileage\"]), \", Mileage Kurtosis :\",kurtosis(df_model[\"Mileage\"]))\n",
    "print(\"Price Skew :\",skew(df_model[\"Price\"]), \", Price Kurtosis :\",kurtosis(df_model[\"Price\"]))"
   ]
  },
  {
   "cell_type": "code",
   "execution_count": 554,
   "metadata": {},
   "outputs": [
    {
     "data": {
      "image/png": "[encoded data removed]",
      "text/plain": [
       "<Figure size 504x288 with 1 Axes>"
      ]
     },
     "metadata": {
      "needs_background": "light"
     },
     "output_type": "display_data"
    }
   ],
   "source": [
    "# Check the outliers for numerical variabel\n",
    "plt.figure(figsize=(7, 4))\n",
    "df_model.boxplot(rot=90);"
   ]
  },
  {
   "cell_type": "markdown",
   "metadata": {},
   "source": [
    "As we know and can see, `Mileage` and `Price` variable has an outlier. There is an exteremely value on `Mileage`, and the `Price` is unlikely possible to have sell used cars just for 1 dollar. This outlier will impacts to our analysis and data model. We will treatment this outlier for the best model we get.\n",
    "\n",
    "First, we will describe the numerical variabel to see the descriptive of each numerical data to percentiles so we can decided the treatment of these outliers. **We will count the 5 min-max percentiles each numerical variable to see the variety of data itself.*"
   ]
  },
  {
   "cell_type": "code",
   "execution_count": 555,
   "metadata": {},
   "outputs": [
    {
     "data": {
      "text/html": [
       "<div>\n",
       "<style scoped>\n",
       "    .dataframe tbody tr th:only-of-type {\n",
       "        vertical-align: middle;\n",
       "    }\n",
       "\n",
       "    .dataframe tbody tr th {\n",
       "        vertical-align: top;\n",
       "    }\n",
       "\n",
       "    .dataframe thead th {\n",
       "        text-align: right;\n",
       "    }\n",
       "</style>\n",
       "<table border=\"1\" class=\"dataframe\">\n",
       "  <thead>\n",
       "    <tr style=\"text-align: right;\">\n",
       "      <th></th>\n",
       "      <th>Year</th>\n",
       "      <th>Engine_Size</th>\n",
       "      <th>Mileage</th>\n",
       "      <th>Price</th>\n",
       "    </tr>\n",
       "  </thead>\n",
       "  <tbody>\n",
       "    <tr>\n",
       "      <th>count</th>\n",
       "      <td>3824.0</td>\n",
       "      <td>3824.0</td>\n",
       "      <td>3824.0</td>\n",
       "      <td>3824.0</td>\n",
       "    </tr>\n",
       "    <tr>\n",
       "      <th>mean</th>\n",
       "      <td>2014.9</td>\n",
       "      <td>3.2</td>\n",
       "      <td>142621.1</td>\n",
       "      <td>78019.2</td>\n",
       "    </tr>\n",
       "    <tr>\n",
       "      <th>std</th>\n",
       "      <td>5.1</td>\n",
       "      <td>1.5</td>\n",
       "      <td>378394.2</td>\n",
       "      <td>72748.2</td>\n",
       "    </tr>\n",
       "    <tr>\n",
       "      <th>min</th>\n",
       "      <td>1963.0</td>\n",
       "      <td>1.0</td>\n",
       "      <td>100.0</td>\n",
       "      <td>1.0</td>\n",
       "    </tr>\n",
       "    <tr>\n",
       "      <th>5%</th>\n",
       "      <td>2006.0</td>\n",
       "      <td>1.4</td>\n",
       "      <td>276.0</td>\n",
       "      <td>14000.0</td>\n",
       "    </tr>\n",
       "    <tr>\n",
       "      <th>10%</th>\n",
       "      <td>2009.0</td>\n",
       "      <td>1.5</td>\n",
       "      <td>4895.1</td>\n",
       "      <td>21000.0</td>\n",
       "    </tr>\n",
       "    <tr>\n",
       "      <th>20%</th>\n",
       "      <td>2013.0</td>\n",
       "      <td>1.8</td>\n",
       "      <td>33000.0</td>\n",
       "      <td>30000.0</td>\n",
       "    </tr>\n",
       "    <tr>\n",
       "      <th>30%</th>\n",
       "      <td>2014.0</td>\n",
       "      <td>2.2</td>\n",
       "      <td>61000.0</td>\n",
       "      <td>40000.0</td>\n",
       "    </tr>\n",
       "    <tr>\n",
       "      <th>40%</th>\n",
       "      <td>2015.0</td>\n",
       "      <td>2.5</td>\n",
       "      <td>83000.0</td>\n",
       "      <td>48600.0</td>\n",
       "    </tr>\n",
       "    <tr>\n",
       "      <th>50%</th>\n",
       "      <td>2016.0</td>\n",
       "      <td>2.7</td>\n",
       "      <td>103000.0</td>\n",
       "      <td>58000.0</td>\n",
       "    </tr>\n",
       "    <tr>\n",
       "      <th>60%</th>\n",
       "      <td>2017.0</td>\n",
       "      <td>3.5</td>\n",
       "      <td>128000.0</td>\n",
       "      <td>69000.0</td>\n",
       "    </tr>\n",
       "    <tr>\n",
       "      <th>70%</th>\n",
       "      <td>2018.0</td>\n",
       "      <td>3.7</td>\n",
       "      <td>160000.0</td>\n",
       "      <td>82000.0</td>\n",
       "    </tr>\n",
       "    <tr>\n",
       "      <th>80%</th>\n",
       "      <td>2018.0</td>\n",
       "      <td>4.6</td>\n",
       "      <td>205000.0</td>\n",
       "      <td>110000.0</td>\n",
       "    </tr>\n",
       "    <tr>\n",
       "      <th>90%</th>\n",
       "      <td>2019.0</td>\n",
       "      <td>5.3</td>\n",
       "      <td>284000.0</td>\n",
       "      <td>153350.0</td>\n",
       "    </tr>\n",
       "    <tr>\n",
       "      <th>95%</th>\n",
       "      <td>2020.0</td>\n",
       "      <td>5.7</td>\n",
       "      <td>350000.0</td>\n",
       "      <td>220000.0</td>\n",
       "    </tr>\n",
       "    <tr>\n",
       "      <th>100%</th>\n",
       "      <td>2021.0</td>\n",
       "      <td>9.0</td>\n",
       "      <td>20000000.0</td>\n",
       "      <td>850000.0</td>\n",
       "    </tr>\n",
       "    <tr>\n",
       "      <th>max</th>\n",
       "      <td>2021.0</td>\n",
       "      <td>9.0</td>\n",
       "      <td>20000000.0</td>\n",
       "      <td>850000.0</td>\n",
       "    </tr>\n",
       "  </tbody>\n",
       "</table>\n",
       "</div>"
      ],
      "text/plain": [
       "        Year  Engine_Size    Mileage    Price\n",
       "count 3824.0       3824.0     3824.0   3824.0\n",
       "mean  2014.9          3.2   142621.1  78019.2\n",
       "std      5.1          1.5   378394.2  72748.2\n",
       "min   1963.0          1.0      100.0      1.0\n",
       "5%    2006.0          1.4      276.0  14000.0\n",
       "10%   2009.0          1.5     4895.1  21000.0\n",
       "20%   2013.0          1.8    33000.0  30000.0\n",
       "30%   2014.0          2.2    61000.0  40000.0\n",
       "40%   2015.0          2.5    83000.0  48600.0\n",
       "50%   2016.0          2.7   103000.0  58000.0\n",
       "60%   2017.0          3.5   128000.0  69000.0\n",
       "70%   2018.0          3.7   160000.0  82000.0\n",
       "80%   2018.0          4.6   205000.0 110000.0\n",
       "90%   2019.0          5.3   284000.0 153350.0\n",
       "95%   2020.0          5.7   350000.0 220000.0\n",
       "100%  2021.0          9.0 20000000.0 850000.0\n",
       "max   2021.0          9.0 20000000.0 850000.0"
      ]
     },
     "execution_count": 555,
     "metadata": {},
     "output_type": "execute_result"
    }
   ],
   "source": [
    "### Decribe the model percentiles\n",
    "df_model.describe(percentiles = [0.05,0.1,0.2,0.3,0.4,0.5,0.6,0.7,0.8,0.9,0.95,1])"
   ]
  },
  {
   "cell_type": "markdown",
   "metadata": {},
   "source": [
    "After we see the describe and the percentiles of each numerical variable we should create the boxplot and describe the outliers based on boxplot result of each numerical variable, so we can see the outliers percisely on each of them."
   ]
  },
  {
   "cell_type": "markdown",
   "metadata": {},
   "source": [
    "**- Year**"
   ]
  },
  {
   "cell_type": "code",
   "execution_count": 556,
   "metadata": {},
   "outputs": [
    {
     "data": {
      "text/plain": [
       "<matplotlib.axes._subplots.AxesSubplot at 0x23f03f596a0>"
      ]
     },
     "execution_count": 556,
     "metadata": {},
     "output_type": "execute_result"
    },
    {
     "data": {
      "image/png": "[encoded data removed]",
      "text/plain": [
       "<Figure size 1080x144 with 1 Axes>"
      ]
     },
     "metadata": {
      "needs_background": "light"
     },
     "output_type": "display_data"
    }
   ],
   "source": [
    "# Check the 'Year' outliers with boxplot\n",
    "plt.figure(figsize=(15,2))\n",
    "sns.boxplot(x=df_model[\"Year\"])"
   ]
  },
  {
   "cell_type": "code",
   "execution_count": 557,
   "metadata": {},
   "outputs": [
    {
     "data": {
      "text/html": [
       "<div>\n",
       "<style scoped>\n",
       "    .dataframe tbody tr th:only-of-type {\n",
       "        vertical-align: middle;\n",
       "    }\n",
       "\n",
       "    .dataframe tbody tr th {\n",
       "        vertical-align: top;\n",
       "    }\n",
       "\n",
       "    .dataframe thead th {\n",
       "        text-align: right;\n",
       "    }\n",
       "</style>\n",
       "<table border=\"1\" class=\"dataframe\">\n",
       "  <thead>\n",
       "    <tr style=\"text-align: right;\">\n",
       "      <th></th>\n",
       "      <th>Type</th>\n",
       "      <th>Region</th>\n",
       "      <th>Make</th>\n",
       "      <th>Gear_Type</th>\n",
       "      <th>Origin</th>\n",
       "      <th>Options</th>\n",
       "      <th>Year</th>\n",
       "      <th>Engine_Size</th>\n",
       "      <th>Mileage</th>\n",
       "      <th>Price</th>\n",
       "    </tr>\n",
       "  </thead>\n",
       "  <tbody>\n",
       "    <tr>\n",
       "      <th>5012</th>\n",
       "      <td>Other</td>\n",
       "      <td>Riyadh</td>\n",
       "      <td>Ford</td>\n",
       "      <td>Manual</td>\n",
       "      <td>Saudi</td>\n",
       "      <td>Standard</td>\n",
       "      <td>1963</td>\n",
       "      <td>1.0</td>\n",
       "      <td>300</td>\n",
       "      <td>22000</td>\n",
       "    </tr>\n",
       "    <tr>\n",
       "      <th>2262</th>\n",
       "      <td>Impala</td>\n",
       "      <td>Al-Ahsa</td>\n",
       "      <td>Chevrolet</td>\n",
       "      <td>Automatic</td>\n",
       "      <td>Other</td>\n",
       "      <td>Full</td>\n",
       "      <td>1964</td>\n",
       "      <td>1.2</td>\n",
       "      <td>100000</td>\n",
       "      <td>75000</td>\n",
       "    </tr>\n",
       "    <tr>\n",
       "      <th>3082</th>\n",
       "      <td>Land Cruiser 70</td>\n",
       "      <td>Riyadh</td>\n",
       "      <td>Toyota</td>\n",
       "      <td>Manual</td>\n",
       "      <td>Saudi</td>\n",
       "      <td>Standard</td>\n",
       "      <td>1978</td>\n",
       "      <td>4.0</td>\n",
       "      <td>400000</td>\n",
       "      <td>18000</td>\n",
       "    </tr>\n",
       "    <tr>\n",
       "      <th>3238</th>\n",
       "      <td>Patrol</td>\n",
       "      <td>Abha</td>\n",
       "      <td>Nissan</td>\n",
       "      <td>Manual</td>\n",
       "      <td>Saudi</td>\n",
       "      <td>Standard</td>\n",
       "      <td>1978</td>\n",
       "      <td>4.0</td>\n",
       "      <td>30000</td>\n",
       "      <td>28000</td>\n",
       "    </tr>\n",
       "    <tr>\n",
       "      <th>663</th>\n",
       "      <td>Other</td>\n",
       "      <td>Qassim</td>\n",
       "      <td>Other</td>\n",
       "      <td>Manual</td>\n",
       "      <td>Other</td>\n",
       "      <td>Standard</td>\n",
       "      <td>1980</td>\n",
       "      <td>2.4</td>\n",
       "      <td>2500</td>\n",
       "      <td>220000</td>\n",
       "    </tr>\n",
       "    <tr>\n",
       "      <th>4259</th>\n",
       "      <td>S</td>\n",
       "      <td>Riyadh</td>\n",
       "      <td>Mercedes</td>\n",
       "      <td>Automatic</td>\n",
       "      <td>Other</td>\n",
       "      <td>Standard</td>\n",
       "      <td>1980</td>\n",
       "      <td>3.0</td>\n",
       "      <td>160000</td>\n",
       "      <td>40000</td>\n",
       "    </tr>\n",
       "    <tr>\n",
       "      <th>3129</th>\n",
       "      <td>Land Cruiser 70</td>\n",
       "      <td>Dammam</td>\n",
       "      <td>Toyota</td>\n",
       "      <td>Manual</td>\n",
       "      <td>Saudi</td>\n",
       "      <td>Standard</td>\n",
       "      <td>1983</td>\n",
       "      <td>3.8</td>\n",
       "      <td>300000</td>\n",
       "      <td>14000</td>\n",
       "    </tr>\n",
       "  </tbody>\n",
       "</table>\n",
       "</div>"
      ],
      "text/plain": [
       "                 Type   Region       Make  Gear_Type Origin   Options  Year  \\\n",
       "5012            Other   Riyadh       Ford     Manual  Saudi  Standard  1963   \n",
       "2262           Impala  Al-Ahsa  Chevrolet  Automatic  Other      Full  1964   \n",
       "3082  Land Cruiser 70   Riyadh     Toyota     Manual  Saudi  Standard  1978   \n",
       "3238           Patrol     Abha     Nissan     Manual  Saudi  Standard  1978   \n",
       "663             Other   Qassim      Other     Manual  Other  Standard  1980   \n",
       "4259                S   Riyadh   Mercedes  Automatic  Other  Standard  1980   \n",
       "3129  Land Cruiser 70   Dammam     Toyota     Manual  Saudi  Standard  1983   \n",
       "\n",
       "      Engine_Size  Mileage   Price  \n",
       "5012          1.0      300   22000  \n",
       "2262          1.2   100000   75000  \n",
       "3082          4.0   400000   18000  \n",
       "3238          4.0    30000   28000  \n",
       "663           2.4     2500  220000  \n",
       "4259          3.0   160000   40000  \n",
       "3129          3.8   300000   14000  "
      ]
     },
     "execution_count": 557,
     "metadata": {},
     "output_type": "execute_result"
    }
   ],
   "source": [
    "# Sort the min 7 data of Year\n",
    "df_model.sort_values(by='Year', ascending=1, inplace=True)\n",
    "df_model.head(7)"
   ]
  },
  {
   "cell_type": "code",
   "execution_count": 558,
   "metadata": {},
   "outputs": [
    {
     "name": "stdout",
     "output_type": "stream",
     "text": [
      "Count of data Year less than 10% percentile : 9.492677824267783 %\n"
     ]
    }
   ],
   "source": [
    "print(\"Count of data Year less than 10% percentile :\",((df_model[df_model['Year'] < 2009].count()['Year'])/3824)*100,\"%\")"
   ]
  },
  {
   "cell_type": "markdown",
   "metadata": {},
   "source": [
    "As we can see: \n",
    "- From the boxplot, the outliers is on the left **- so we sort & desc the min data of Year**\n",
    "- We can see that the outliers is on 1963 & 1964. But we must had consideration with that year and with other variables on that data (Mileage, Type, Make, Geartype & Options) it's might be possible to sell the car with that price **- Acceptable**\n",
    "- No lap/gap to far away between the 7 Min value of Year to other. There is a much of variation value under the mean (2014 - 2015) **- Acceptable**\n",
    "- Min val have near of 10% data range of dataset **- Good Variety**\n",
    "\n",
    "We still keep the raw data of Year Variabel to keep our accuration model. So we dont do the cut on the Year variabel. **Besides, the Skewness is near zero*"
   ]
  },
  {
   "cell_type": "markdown",
   "metadata": {},
   "source": [
    "**- Engine_Size**"
   ]
  },
  {
   "cell_type": "code",
   "execution_count": 559,
   "metadata": {},
   "outputs": [
    {
     "data": {
      "text/plain": [
       "<matplotlib.axes._subplots.AxesSubplot at 0x23f0075ad60>"
      ]
     },
     "execution_count": 559,
     "metadata": {},
     "output_type": "execute_result"
    },
    {
     "data": {
      "image/png": "[encoded data removed]",
      "text/plain": [
       "<Figure size 1080x144 with 1 Axes>"
      ]
     },
     "metadata": {
      "needs_background": "light"
     },
     "output_type": "display_data"
    }
   ],
   "source": [
    "# Check the 'Engine_Size' outliers with boxplot\n",
    "plt.figure(figsize=(15,2))\n",
    "sns.boxplot(x=df_model[\"Engine_Size\"])"
   ]
  },
  {
   "cell_type": "code",
   "execution_count": 560,
   "metadata": {},
   "outputs": [
    {
     "data": {
      "text/html": [
       "<div>\n",
       "<style scoped>\n",
       "    .dataframe tbody tr th:only-of-type {\n",
       "        vertical-align: middle;\n",
       "    }\n",
       "\n",
       "    .dataframe tbody tr th {\n",
       "        vertical-align: top;\n",
       "    }\n",
       "\n",
       "    .dataframe thead th {\n",
       "        text-align: right;\n",
       "    }\n",
       "</style>\n",
       "<table border=\"1\" class=\"dataframe\">\n",
       "  <thead>\n",
       "    <tr style=\"text-align: right;\">\n",
       "      <th></th>\n",
       "      <th>Type</th>\n",
       "      <th>Region</th>\n",
       "      <th>Make</th>\n",
       "      <th>Gear_Type</th>\n",
       "      <th>Origin</th>\n",
       "      <th>Options</th>\n",
       "      <th>Year</th>\n",
       "      <th>Engine_Size</th>\n",
       "      <th>Mileage</th>\n",
       "      <th>Price</th>\n",
       "    </tr>\n",
       "  </thead>\n",
       "  <tbody>\n",
       "    <tr>\n",
       "      <th>1547</th>\n",
       "      <td>Marquis</td>\n",
       "      <td>Riyadh</td>\n",
       "      <td>Ford</td>\n",
       "      <td>Automatic</td>\n",
       "      <td>Other</td>\n",
       "      <td>Full</td>\n",
       "      <td>2008</td>\n",
       "      <td>9.0</td>\n",
       "      <td>115</td>\n",
       "      <td>17000</td>\n",
       "    </tr>\n",
       "    <tr>\n",
       "      <th>2217</th>\n",
       "      <td>Camry</td>\n",
       "      <td>Jeddah</td>\n",
       "      <td>Toyota</td>\n",
       "      <td>Automatic</td>\n",
       "      <td>Saudi</td>\n",
       "      <td>Semi Full</td>\n",
       "      <td>2014</td>\n",
       "      <td>9.0</td>\n",
       "      <td>106000</td>\n",
       "      <td>36000</td>\n",
       "    </tr>\n",
       "    <tr>\n",
       "      <th>650</th>\n",
       "      <td>E</td>\n",
       "      <td>Jeddah</td>\n",
       "      <td>Mercedes</td>\n",
       "      <td>Manual</td>\n",
       "      <td>Other</td>\n",
       "      <td>Semi Full</td>\n",
       "      <td>2017</td>\n",
       "      <td>9.0</td>\n",
       "      <td>134000</td>\n",
       "      <td>155000</td>\n",
       "    </tr>\n",
       "    <tr>\n",
       "      <th>3525</th>\n",
       "      <td>FJ</td>\n",
       "      <td>Hail</td>\n",
       "      <td>Toyota</td>\n",
       "      <td>Automatic</td>\n",
       "      <td>Saudi</td>\n",
       "      <td>Full</td>\n",
       "      <td>2014</td>\n",
       "      <td>9.0</td>\n",
       "      <td>308000</td>\n",
       "      <td>75000</td>\n",
       "    </tr>\n",
       "    <tr>\n",
       "      <th>5251</th>\n",
       "      <td>Sierra</td>\n",
       "      <td>Dammam</td>\n",
       "      <td>GMC</td>\n",
       "      <td>Automatic</td>\n",
       "      <td>Saudi</td>\n",
       "      <td>Full</td>\n",
       "      <td>2021</td>\n",
       "      <td>9.0</td>\n",
       "      <td>100</td>\n",
       "      <td>178000</td>\n",
       "    </tr>\n",
       "    <tr>\n",
       "      <th>59</th>\n",
       "      <td>Camry</td>\n",
       "      <td>Taef</td>\n",
       "      <td>Toyota</td>\n",
       "      <td>Automatic</td>\n",
       "      <td>Saudi</td>\n",
       "      <td>Semi Full</td>\n",
       "      <td>2001</td>\n",
       "      <td>9.0</td>\n",
       "      <td>150000</td>\n",
       "      <td>15000</td>\n",
       "    </tr>\n",
       "    <tr>\n",
       "      <th>600</th>\n",
       "      <td>G</td>\n",
       "      <td>Riyadh</td>\n",
       "      <td>Mercedes</td>\n",
       "      <td>Automatic</td>\n",
       "      <td>Saudi</td>\n",
       "      <td>Full</td>\n",
       "      <td>2015</td>\n",
       "      <td>8.8</td>\n",
       "      <td>213000</td>\n",
       "      <td>240000</td>\n",
       "    </tr>\n",
       "  </tbody>\n",
       "</table>\n",
       "</div>"
      ],
      "text/plain": [
       "         Type  Region      Make  Gear_Type Origin    Options  Year  \\\n",
       "1547  Marquis  Riyadh      Ford  Automatic  Other       Full  2008   \n",
       "2217    Camry  Jeddah    Toyota  Automatic  Saudi  Semi Full  2014   \n",
       "650         E  Jeddah  Mercedes     Manual  Other  Semi Full  2017   \n",
       "3525       FJ    Hail    Toyota  Automatic  Saudi       Full  2014   \n",
       "5251   Sierra  Dammam       GMC  Automatic  Saudi       Full  2021   \n",
       "59      Camry    Taef    Toyota  Automatic  Saudi  Semi Full  2001   \n",
       "600         G  Riyadh  Mercedes  Automatic  Saudi       Full  2015   \n",
       "\n",
       "      Engine_Size  Mileage   Price  \n",
       "1547          9.0      115   17000  \n",
       "2217          9.0   106000   36000  \n",
       "650           9.0   134000  155000  \n",
       "3525          9.0   308000   75000  \n",
       "5251          9.0      100  178000  \n",
       "59            9.0   150000   15000  \n",
       "600           8.8   213000  240000  "
      ]
     },
     "execution_count": 560,
     "metadata": {},
     "output_type": "execute_result"
    }
   ],
   "source": [
    "# Sort the max 7 data of Engine_Size\n",
    "df_model.sort_values(by='Engine_Size', ascending=0, inplace=True)\n",
    "df_model.head(7)"
   ]
  },
  {
   "cell_type": "code",
   "execution_count": 561,
   "metadata": {},
   "outputs": [
    {
     "name": "stdout",
     "output_type": "stream",
     "text": [
      "Count of data Engine_Size more than 90% percentile : 9.597280334728033 %\n"
     ]
    }
   ],
   "source": [
    "print(\"Count of data Engine_Size more than 90% percentile :\",((df_model[df_model['Engine_Size'] > 5.3].count()['Engine_Size'])/3824)*100,\"%\")"
   ]
  },
  {
   "cell_type": "markdown",
   "metadata": {},
   "source": [
    "As we can see: \n",
    "- From the boxplot, the outliers is on the right **- so we sort & desc the max data of Engine_Size**\n",
    "- We can see the outliers is on 7 to 9 0f Engine_Data. But as we know if it's possible to had car on that val of engine with that price. (Considering other variables on that data). **- Acceptable**\n",
    "- No lap/gap on the 7 Max value of Engine_Size **- Acceptable**\n",
    "- Max Val have near of 10% data range of dataset **- Good Variety**\n",
    "\n",
    "We still keep the raw data of Engine_Size Variabel to keep our accuration model. So we dont do the cut on the Engine_Size variabel. . **Besides, the Skewness is near zero*"
   ]
  },
  {
   "cell_type": "markdown",
   "metadata": {},
   "source": [
    "**- Mileage**"
   ]
  },
  {
   "cell_type": "code",
   "execution_count": 562,
   "metadata": {},
   "outputs": [
    {
     "data": {
      "text/plain": [
       "<matplotlib.axes._subplots.AxesSubplot at 0x23f12785700>"
      ]
     },
     "execution_count": 562,
     "metadata": {},
     "output_type": "execute_result"
    },
    {
     "data": {
      "image/png": "[encoded data removed]",
      "text/plain": [
       "<Figure size 1080x144 with 1 Axes>"
      ]
     },
     "metadata": {
      "needs_background": "light"
     },
     "output_type": "display_data"
    }
   ],
   "source": [
    "# Check the 'Mileage' outliers with boxplot\n",
    "plt.figure(figsize=(15,2))\n",
    "sns.boxplot(x=df_model[\"Mileage\"])"
   ]
  },
  {
   "cell_type": "code",
   "execution_count": 563,
   "metadata": {},
   "outputs": [
    {
     "data": {
      "text/html": [
       "<div>\n",
       "<style scoped>\n",
       "    .dataframe tbody tr th:only-of-type {\n",
       "        vertical-align: middle;\n",
       "    }\n",
       "\n",
       "    .dataframe tbody tr th {\n",
       "        vertical-align: top;\n",
       "    }\n",
       "\n",
       "    .dataframe thead th {\n",
       "        text-align: right;\n",
       "    }\n",
       "</style>\n",
       "<table border=\"1\" class=\"dataframe\">\n",
       "  <thead>\n",
       "    <tr style=\"text-align: right;\">\n",
       "      <th></th>\n",
       "      <th>Type</th>\n",
       "      <th>Region</th>\n",
       "      <th>Make</th>\n",
       "      <th>Gear_Type</th>\n",
       "      <th>Origin</th>\n",
       "      <th>Options</th>\n",
       "      <th>Year</th>\n",
       "      <th>Engine_Size</th>\n",
       "      <th>Mileage</th>\n",
       "      <th>Price</th>\n",
       "    </tr>\n",
       "  </thead>\n",
       "  <tbody>\n",
       "    <tr>\n",
       "      <th>3403</th>\n",
       "      <td>Optra</td>\n",
       "      <td>Riyadh</td>\n",
       "      <td>Chevrolet</td>\n",
       "      <td>Manual</td>\n",
       "      <td>Other</td>\n",
       "      <td>Semi Full</td>\n",
       "      <td>2009</td>\n",
       "      <td>1.6</td>\n",
       "      <td>20000000</td>\n",
       "      <td>9000</td>\n",
       "    </tr>\n",
       "    <tr>\n",
       "      <th>572</th>\n",
       "      <td>Camry</td>\n",
       "      <td>Yanbu</td>\n",
       "      <td>Toyota</td>\n",
       "      <td>Automatic</td>\n",
       "      <td>Other</td>\n",
       "      <td>Full</td>\n",
       "      <td>1998</td>\n",
       "      <td>2.5</td>\n",
       "      <td>4500000</td>\n",
       "      <td>15000</td>\n",
       "    </tr>\n",
       "    <tr>\n",
       "      <th>4193</th>\n",
       "      <td>Innova</td>\n",
       "      <td>Riyadh</td>\n",
       "      <td>Toyota</td>\n",
       "      <td>Manual</td>\n",
       "      <td>Saudi</td>\n",
       "      <td>Standard</td>\n",
       "      <td>2013</td>\n",
       "      <td>2.7</td>\n",
       "      <td>3640000</td>\n",
       "      <td>30000</td>\n",
       "    </tr>\n",
       "    <tr>\n",
       "      <th>1412</th>\n",
       "      <td>Trailblazer</td>\n",
       "      <td>Jeddah</td>\n",
       "      <td>Chevrolet</td>\n",
       "      <td>Automatic</td>\n",
       "      <td>Other</td>\n",
       "      <td>Full</td>\n",
       "      <td>2004</td>\n",
       "      <td>5.3</td>\n",
       "      <td>3500000</td>\n",
       "      <td>10000</td>\n",
       "    </tr>\n",
       "    <tr>\n",
       "      <th>4548</th>\n",
       "      <td>Tahoe</td>\n",
       "      <td>Riyadh</td>\n",
       "      <td>Chevrolet</td>\n",
       "      <td>Automatic</td>\n",
       "      <td>Saudi</td>\n",
       "      <td>Semi Full</td>\n",
       "      <td>2008</td>\n",
       "      <td>5.7</td>\n",
       "      <td>3300000</td>\n",
       "      <td>27000</td>\n",
       "    </tr>\n",
       "    <tr>\n",
       "      <th>915</th>\n",
       "      <td>Pathfinder</td>\n",
       "      <td>Riyadh</td>\n",
       "      <td>Nissan</td>\n",
       "      <td>Automatic</td>\n",
       "      <td>Saudi</td>\n",
       "      <td>Standard</td>\n",
       "      <td>1998</td>\n",
       "      <td>3.5</td>\n",
       "      <td>3180003</td>\n",
       "      <td>10500</td>\n",
       "    </tr>\n",
       "    <tr>\n",
       "      <th>4875</th>\n",
       "      <td>Pathfinder</td>\n",
       "      <td>Riyadh</td>\n",
       "      <td>Nissan</td>\n",
       "      <td>Automatic</td>\n",
       "      <td>Saudi</td>\n",
       "      <td>Full</td>\n",
       "      <td>2008</td>\n",
       "      <td>2.6</td>\n",
       "      <td>3150000</td>\n",
       "      <td>20000</td>\n",
       "    </tr>\n",
       "  </tbody>\n",
       "</table>\n",
       "</div>"
      ],
      "text/plain": [
       "             Type  Region       Make  Gear_Type Origin    Options  Year  \\\n",
       "3403        Optra  Riyadh  Chevrolet     Manual  Other  Semi Full  2009   \n",
       "572         Camry   Yanbu     Toyota  Automatic  Other       Full  1998   \n",
       "4193       Innova  Riyadh     Toyota     Manual  Saudi   Standard  2013   \n",
       "1412  Trailblazer  Jeddah  Chevrolet  Automatic  Other       Full  2004   \n",
       "4548        Tahoe  Riyadh  Chevrolet  Automatic  Saudi  Semi Full  2008   \n",
       "915    Pathfinder  Riyadh     Nissan  Automatic  Saudi   Standard  1998   \n",
       "4875   Pathfinder  Riyadh     Nissan  Automatic  Saudi       Full  2008   \n",
       "\n",
       "      Engine_Size   Mileage  Price  \n",
       "3403          1.6  20000000   9000  \n",
       "572           2.5   4500000  15000  \n",
       "4193          2.7   3640000  30000  \n",
       "1412          5.3   3500000  10000  \n",
       "4548          5.7   3300000  27000  \n",
       "915           3.5   3180003  10500  \n",
       "4875          2.6   3150000  20000  "
      ]
     },
     "execution_count": 563,
     "metadata": {},
     "output_type": "execute_result"
    }
   ],
   "source": [
    "# Sort the max 7 data of Mileage\n",
    "df_model.sort_values(by='Mileage', ascending=0, inplace=True)\n",
    "df_model.head(7)"
   ]
  },
  {
   "cell_type": "code",
   "execution_count": 564,
   "metadata": {},
   "outputs": [
    {
     "name": "stdout",
     "output_type": "stream",
     "text": [
      "Count of data Mileage more than 90% percentile : 9.989539748953975 %\n"
     ]
    }
   ],
   "source": [
    "print(\"Count of data Mileage more than 90% percentile :\",((df_model[df_model['Mileage'] > 284000.0].count()['Mileage'])/3824)*100,\"%\")"
   ]
  },
  {
   "cell_type": "markdown",
   "metadata": {},
   "source": [
    "As we can see: \n",
    "- From the boxplot above, the outliers is on the right **- so we sort & desc the max data of Mileage** \n",
    "- We can see the outliers (extreme value) is on 2.00 le7 with Engine_Size 1.6 and Price 9000. We assume that it must be outliers that can be by human error or something. Because the gap between 20000000 to 4500000 it's to far **- Not Acceptable**\n",
    "- Max Val have near of 10% data range of dataset **- Good Variety**\n",
    "\n",
    "So we do the cut on the Mileage more than 4500000. **Besides, the Skewness really far from zero (39.422345261243805)*"
   ]
  },
  {
   "cell_type": "markdown",
   "metadata": {},
   "source": [
    "**- Price**"
   ]
  },
  {
   "cell_type": "code",
   "execution_count": 565,
   "metadata": {},
   "outputs": [
    {
     "data": {
      "text/plain": [
       "<matplotlib.axes._subplots.AxesSubplot at 0x23f0399c700>"
      ]
     },
     "execution_count": 565,
     "metadata": {},
     "output_type": "execute_result"
    },
    {
     "data": {
      "image/png": "[encoded data removed]",
      "text/plain": [
       "<Figure size 1080x144 with 1 Axes>"
      ]
     },
     "metadata": {
      "needs_background": "light"
     },
     "output_type": "display_data"
    }
   ],
   "source": [
    "# Check the 'Price' outliers with boxplot\n",
    "plt.figure(figsize=(15,2))\n",
    "sns.boxplot(x=df_model[\"Price\"])"
   ]
  },
  {
   "cell_type": "code",
   "execution_count": 566,
   "metadata": {},
   "outputs": [
    {
     "data": {
      "text/html": [
       "<div>\n",
       "<style scoped>\n",
       "    .dataframe tbody tr th:only-of-type {\n",
       "        vertical-align: middle;\n",
       "    }\n",
       "\n",
       "    .dataframe tbody tr th {\n",
       "        vertical-align: top;\n",
       "    }\n",
       "\n",
       "    .dataframe thead th {\n",
       "        text-align: right;\n",
       "    }\n",
       "</style>\n",
       "<table border=\"1\" class=\"dataframe\">\n",
       "  <thead>\n",
       "    <tr style=\"text-align: right;\">\n",
       "      <th></th>\n",
       "      <th>Type</th>\n",
       "      <th>Region</th>\n",
       "      <th>Make</th>\n",
       "      <th>Gear_Type</th>\n",
       "      <th>Origin</th>\n",
       "      <th>Options</th>\n",
       "      <th>Year</th>\n",
       "      <th>Engine_Size</th>\n",
       "      <th>Mileage</th>\n",
       "      <th>Price</th>\n",
       "    </tr>\n",
       "  </thead>\n",
       "  <tbody>\n",
       "    <tr>\n",
       "      <th>3513</th>\n",
       "      <td>Bentayga</td>\n",
       "      <td>Dammam</td>\n",
       "      <td>Bentley</td>\n",
       "      <td>Automatic</td>\n",
       "      <td>Saudi</td>\n",
       "      <td>Full</td>\n",
       "      <td>2019</td>\n",
       "      <td>6.0</td>\n",
       "      <td>13000</td>\n",
       "      <td>850000</td>\n",
       "    </tr>\n",
       "    <tr>\n",
       "      <th>4684</th>\n",
       "      <td>G</td>\n",
       "      <td>Riyadh</td>\n",
       "      <td>Mercedes</td>\n",
       "      <td>Automatic</td>\n",
       "      <td>Other</td>\n",
       "      <td>Full</td>\n",
       "      <td>2019</td>\n",
       "      <td>4.0</td>\n",
       "      <td>39000</td>\n",
       "      <td>800000</td>\n",
       "    </tr>\n",
       "    <tr>\n",
       "      <th>4273</th>\n",
       "      <td>S</td>\n",
       "      <td>Dammam</td>\n",
       "      <td>Mercedes</td>\n",
       "      <td>Automatic</td>\n",
       "      <td>Gulf Arabic</td>\n",
       "      <td>Full</td>\n",
       "      <td>2021</td>\n",
       "      <td>3.0</td>\n",
       "      <td>2500</td>\n",
       "      <td>748000</td>\n",
       "    </tr>\n",
       "    <tr>\n",
       "      <th>2120</th>\n",
       "      <td>Ghost</td>\n",
       "      <td>Dammam</td>\n",
       "      <td>Rolls-Royce</td>\n",
       "      <td>Automatic</td>\n",
       "      <td>Saudi</td>\n",
       "      <td>Full</td>\n",
       "      <td>2016</td>\n",
       "      <td>6.0</td>\n",
       "      <td>40000</td>\n",
       "      <td>620000</td>\n",
       "    </tr>\n",
       "    <tr>\n",
       "      <th>4653</th>\n",
       "      <td>Range Rover</td>\n",
       "      <td>Riyadh</td>\n",
       "      <td>Land Rover</td>\n",
       "      <td>Automatic</td>\n",
       "      <td>Other</td>\n",
       "      <td>Full</td>\n",
       "      <td>2019</td>\n",
       "      <td>5.0</td>\n",
       "      <td>4200</td>\n",
       "      <td>599000</td>\n",
       "    </tr>\n",
       "    <tr>\n",
       "      <th>3561</th>\n",
       "      <td>Range Rover</td>\n",
       "      <td>Riyadh</td>\n",
       "      <td>Land Rover</td>\n",
       "      <td>Automatic</td>\n",
       "      <td>Saudi</td>\n",
       "      <td>Full</td>\n",
       "      <td>2020</td>\n",
       "      <td>5.0</td>\n",
       "      <td>26000</td>\n",
       "      <td>575000</td>\n",
       "    </tr>\n",
       "    <tr>\n",
       "      <th>3105</th>\n",
       "      <td>Range Rover</td>\n",
       "      <td>Riyadh</td>\n",
       "      <td>Land Rover</td>\n",
       "      <td>Automatic</td>\n",
       "      <td>Gulf Arabic</td>\n",
       "      <td>Full</td>\n",
       "      <td>2020</td>\n",
       "      <td>5.0</td>\n",
       "      <td>36000</td>\n",
       "      <td>540000</td>\n",
       "    </tr>\n",
       "  </tbody>\n",
       "</table>\n",
       "</div>"
      ],
      "text/plain": [
       "             Type  Region         Make  Gear_Type       Origin Options  Year  \\\n",
       "3513     Bentayga  Dammam      Bentley  Automatic        Saudi    Full  2019   \n",
       "4684            G  Riyadh     Mercedes  Automatic        Other    Full  2019   \n",
       "4273            S  Dammam     Mercedes  Automatic  Gulf Arabic    Full  2021   \n",
       "2120        Ghost  Dammam  Rolls-Royce  Automatic        Saudi    Full  2016   \n",
       "4653  Range Rover  Riyadh   Land Rover  Automatic        Other    Full  2019   \n",
       "3561  Range Rover  Riyadh   Land Rover  Automatic        Saudi    Full  2020   \n",
       "3105  Range Rover  Riyadh   Land Rover  Automatic  Gulf Arabic    Full  2020   \n",
       "\n",
       "      Engine_Size  Mileage   Price  \n",
       "3513          6.0    13000  850000  \n",
       "4684          4.0    39000  800000  \n",
       "4273          3.0     2500  748000  \n",
       "2120          6.0    40000  620000  \n",
       "4653          5.0     4200  599000  \n",
       "3561          5.0    26000  575000  \n",
       "3105          5.0    36000  540000  "
      ]
     },
     "execution_count": 566,
     "metadata": {},
     "output_type": "execute_result"
    }
   ],
   "source": [
    "# Sort the max 7 data of Mileage\n",
    "df_model.sort_values(by='Price', ascending=0, inplace=True)\n",
    "df_model.head(7)"
   ]
  },
  {
   "cell_type": "code",
   "execution_count": 567,
   "metadata": {},
   "outputs": [
    {
     "name": "stdout",
     "output_type": "stream",
     "text": [
      "Count of data Price more than 90% percentile : 10.015690376569038 %\n"
     ]
    }
   ],
   "source": [
    "print(\"Count of data Price more than 90% percentile :\",((df_model[df_model['Price'] > 153350].count()['Price'])/3824)*100,\"%\")"
   ]
  },
  {
   "cell_type": "markdown",
   "metadata": {},
   "source": [
    "As we can see: \n",
    "- From the boxplot above, the outliers is on the right **- so we sort & desc the max data of Price**\n",
    "- There is a lap/gap on the 7 Min value of Price on 1 to 500. *Based on knowladge, it's impossible to sell the 2019 used car for 1 dollar. and we can see that the other min price is seemly possible to selling on that variation of the value based on other variabel of the dataset* **- Not Acceptable**\n",
    "- No lap/gap on the 7 Max value of Price **- Acceptable**\n",
    "- Both Min and Max Val have near of 10% data range of dataset **- Good Variety**\n",
    "\n",
    "Based on [research](https://ksa.yallamotor.com/used-cars/pr_1000_10000?page=2&sort=updated_desc), it's seems not realistic to sell an used cars less that 1000 Riyal\n",
    "\n",
    "So we do the cut on the Price less than 1000. **Besides, the Skewness slihghtly far from zero (3.096416044314816)*"
   ]
  },
  {
   "cell_type": "markdown",
   "metadata": {},
   "source": [
    "**Based on Research and Knowledge**\n",
    "\n",
    "After we see which outliers that we decided to dropped in our dataset, we also have to check the info from the web (market place) so we can see/know what range is possible and impossible to sell car (based on Price, Mileage, Year Range etc). This research and knowledge will lead us to a better precision in a real life."
   ]
  },
  {
   "cell_type": "markdown",
   "metadata": {},
   "source": [
    "**[Source 1](https://ksa.yallamotor.com/used-cars/search)**\n",
    "**[Source 2](http://p3nlhclust404.shr.prod.phx3.secureserver.net/SharedContent/redirect_0.html)**\n",
    "**[Source 3](http://www.saudisale.com/SS_e_mpg.aspx)**\n",
    "\n",
    "| **Variable** | **Range** |\n",
    "| --- | --- |\n",
    "| Price | > = 5000 |\n",
    "| Mileage | < = 700000"
   ]
  },
  {
   "cell_type": "markdown",
   "metadata": {},
   "source": [
    "### Drop the Outliers"
   ]
  },
  {
   "cell_type": "markdown",
   "metadata": {},
   "source": [
    "For our summaries, we already adjust our decision and research to get the conclusion from our analysis for outliers :\n",
    "- Drop the Mileage more than and equal to 700000\n",
    "- Drop the Price less than and equal to 5000"
   ]
  },
  {
   "cell_type": "code",
   "execution_count": 568,
   "metadata": {},
   "outputs": [
    {
     "name": "stdout",
     "output_type": "stream",
     "text": [
      "<class 'pandas.core.frame.DataFrame'>\n",
      "Int64Index: 3734 entries, 3513 to 693\n",
      "Data columns (total 10 columns):\n",
      " #   Column       Non-Null Count  Dtype  \n",
      "---  ------       --------------  -----  \n",
      " 0   Type         3734 non-null   object \n",
      " 1   Region       3734 non-null   object \n",
      " 2   Make         3734 non-null   object \n",
      " 3   Gear_Type    3734 non-null   object \n",
      " 4   Origin       3734 non-null   object \n",
      " 5   Options      3734 non-null   object \n",
      " 6   Year         3734 non-null   int64  \n",
      " 7   Engine_Size  3734 non-null   float64\n",
      " 8   Mileage      3734 non-null   int64  \n",
      " 9   Price        3734 non-null   int64  \n",
      "dtypes: float64(1), int64(3), object(6)\n",
      "memory usage: 320.9+ KB\n"
     ]
    }
   ],
   "source": [
    "# Drop the Outliers\n",
    "df_model = df_model[(df_model['Price'] >= 5000)]\n",
    "df_model = df_model[(df_model['Mileage'] <= 700000)]\n",
    "df_model.info()"
   ]
  },
  {
   "cell_type": "markdown",
   "metadata": {},
   "source": [
    "We see that there are just 3734 datas are standing on our dataset (66.39%). We assume that this is a clean data so we can process our dataset on the next step (modeling)."
   ]
  },
  {
   "cell_type": "code",
   "execution_count": 569,
   "metadata": {},
   "outputs": [
    {
     "data": {
      "text/html": [
       "<div>\n",
       "<style scoped>\n",
       "    .dataframe tbody tr th:only-of-type {\n",
       "        vertical-align: middle;\n",
       "    }\n",
       "\n",
       "    .dataframe tbody tr th {\n",
       "        vertical-align: top;\n",
       "    }\n",
       "\n",
       "    .dataframe thead th {\n",
       "        text-align: right;\n",
       "    }\n",
       "</style>\n",
       "<table border=\"1\" class=\"dataframe\">\n",
       "  <thead>\n",
       "    <tr style=\"text-align: right;\">\n",
       "      <th></th>\n",
       "      <th>Type</th>\n",
       "      <th>Region</th>\n",
       "      <th>Make</th>\n",
       "      <th>Gear_Type</th>\n",
       "      <th>Origin</th>\n",
       "      <th>Options</th>\n",
       "      <th>Year</th>\n",
       "      <th>Engine_Size</th>\n",
       "      <th>Mileage</th>\n",
       "      <th>Price</th>\n",
       "    </tr>\n",
       "  </thead>\n",
       "  <tbody>\n",
       "    <tr>\n",
       "      <th>3513</th>\n",
       "      <td>Bentayga</td>\n",
       "      <td>Dammam</td>\n",
       "      <td>Bentley</td>\n",
       "      <td>Automatic</td>\n",
       "      <td>Saudi</td>\n",
       "      <td>Full</td>\n",
       "      <td>2019</td>\n",
       "      <td>6.0</td>\n",
       "      <td>13000</td>\n",
       "      <td>850000</td>\n",
       "    </tr>\n",
       "    <tr>\n",
       "      <th>4684</th>\n",
       "      <td>G</td>\n",
       "      <td>Riyadh</td>\n",
       "      <td>Mercedes</td>\n",
       "      <td>Automatic</td>\n",
       "      <td>Other</td>\n",
       "      <td>Full</td>\n",
       "      <td>2019</td>\n",
       "      <td>4.0</td>\n",
       "      <td>39000</td>\n",
       "      <td>800000</td>\n",
       "    </tr>\n",
       "    <tr>\n",
       "      <th>4273</th>\n",
       "      <td>S</td>\n",
       "      <td>Dammam</td>\n",
       "      <td>Mercedes</td>\n",
       "      <td>Automatic</td>\n",
       "      <td>Gulf Arabic</td>\n",
       "      <td>Full</td>\n",
       "      <td>2021</td>\n",
       "      <td>3.0</td>\n",
       "      <td>2500</td>\n",
       "      <td>748000</td>\n",
       "    </tr>\n",
       "    <tr>\n",
       "      <th>2120</th>\n",
       "      <td>Ghost</td>\n",
       "      <td>Dammam</td>\n",
       "      <td>Rolls-Royce</td>\n",
       "      <td>Automatic</td>\n",
       "      <td>Saudi</td>\n",
       "      <td>Full</td>\n",
       "      <td>2016</td>\n",
       "      <td>6.0</td>\n",
       "      <td>40000</td>\n",
       "      <td>620000</td>\n",
       "    </tr>\n",
       "    <tr>\n",
       "      <th>4653</th>\n",
       "      <td>Range Rover</td>\n",
       "      <td>Riyadh</td>\n",
       "      <td>Land Rover</td>\n",
       "      <td>Automatic</td>\n",
       "      <td>Other</td>\n",
       "      <td>Full</td>\n",
       "      <td>2019</td>\n",
       "      <td>5.0</td>\n",
       "      <td>4200</td>\n",
       "      <td>599000</td>\n",
       "    </tr>\n",
       "  </tbody>\n",
       "</table>\n",
       "</div>"
      ],
      "text/plain": [
       "             Type  Region         Make  Gear_Type       Origin Options  Year  \\\n",
       "3513     Bentayga  Dammam      Bentley  Automatic        Saudi    Full  2019   \n",
       "4684            G  Riyadh     Mercedes  Automatic        Other    Full  2019   \n",
       "4273            S  Dammam     Mercedes  Automatic  Gulf Arabic    Full  2021   \n",
       "2120        Ghost  Dammam  Rolls-Royce  Automatic        Saudi    Full  2016   \n",
       "4653  Range Rover  Riyadh   Land Rover  Automatic        Other    Full  2019   \n",
       "\n",
       "      Engine_Size  Mileage   Price  \n",
       "3513          6.0    13000  850000  \n",
       "4684          4.0    39000  800000  \n",
       "4273          3.0     2500  748000  \n",
       "2120          6.0    40000  620000  \n",
       "4653          5.0     4200  599000  "
      ]
     },
     "execution_count": 569,
     "metadata": {},
     "output_type": "execute_result"
    }
   ],
   "source": [
    "# Check Clean dataset\n",
    "df_model.head()"
   ]
  },
  {
   "cell_type": "markdown",
   "metadata": {},
   "source": [
    "****"
   ]
  },
  {
   "cell_type": "markdown",
   "metadata": {},
   "source": [
    "## 4. Data Analysis"
   ]
  },
  {
   "cell_type": "markdown",
   "metadata": {},
   "source": [
    "In this step, we will showing the graph to seeking the information either for the numerical variabel and categorical variabel. By seeking the information, we can analysed and decided what model we want to use. Having a good information and analysis brings us to the better decision making on the next stage"
   ]
  },
  {
   "cell_type": "markdown",
   "metadata": {},
   "source": [
    "### Show the distribution data of each numerical variabel"
   ]
  },
  {
   "cell_type": "code",
   "execution_count": 570,
   "metadata": {},
   "outputs": [
    {
     "data": {
      "image/png": "[encoded data removed]",
      "text/plain": [
       "<Figure size 1080x720 with 4 Axes>"
      ]
     },
     "metadata": {
      "needs_background": "light"
     },
     "output_type": "display_data"
    }
   ],
   "source": [
    "# Show distribution plot for each numerical variabel on dataset\n",
    "plt.figure(figsize=(15,10))\n",
    "\n",
    "plt.subplot(221)\n",
    "sns.distplot(df_model['Year'], kde=True)\n",
    "plt.title('Year of Used Cars',fontsize=13)\n",
    "\n",
    "plt.subplot(222)\n",
    "sns.distplot(df_model['Engine_Size'], kde=True)\n",
    "plt.title('Engine_Size of Used Cars',fontsize=13)\n",
    "\n",
    "plt.subplot(223)\n",
    "sns.distplot(df_model['Mileage'], kde=True)\n",
    "plt.title('Mileage of Used Cars',fontsize=13)\n",
    "\n",
    "plt.subplot(224)\n",
    "sns.distplot(df_model['Price'], kde=True)\n",
    "plt.title('Price of Used Cars',fontsize=13)\n",
    "\n",
    "plt.show()"
   ]
  },
  {
   "cell_type": "markdown",
   "metadata": {},
   "source": [
    "Based on Distribution plot above, we can see that our model had a variety of Skewness. Skewness tell us that the data might had an outlier (good/bad). After we analyze it we can see that there is a change on `Mileage`'s graph-clean dataset. On The `Mileage`'s graph the Skewness and Kurtosis are not extreme anymore. And we can see we had a rich data because there's much of variety on our clean dataset."
   ]
  },
  {
   "cell_type": "markdown",
   "metadata": {},
   "source": [
    "**View all categorical variables**"
   ]
  },
  {
   "cell_type": "code",
   "execution_count": 573,
   "metadata": {},
   "outputs": [
    {
     "data": {
      "text/html": [
       "<div>\n",
       "<style scoped>\n",
       "    .dataframe tbody tr th:only-of-type {\n",
       "        vertical-align: middle;\n",
       "    }\n",
       "\n",
       "    .dataframe tbody tr th {\n",
       "        vertical-align: top;\n",
       "    }\n",
       "\n",
       "    .dataframe thead th {\n",
       "        text-align: right;\n",
       "    }\n",
       "</style>\n",
       "<table border=\"1\" class=\"dataframe\">\n",
       "  <thead>\n",
       "    <tr style=\"text-align: right;\">\n",
       "      <th></th>\n",
       "      <th>Type</th>\n",
       "      <th>Region</th>\n",
       "      <th>Make</th>\n",
       "      <th>Gear_Type</th>\n",
       "      <th>Origin</th>\n",
       "      <th>Options</th>\n",
       "    </tr>\n",
       "  </thead>\n",
       "  <tbody>\n",
       "    <tr>\n",
       "      <th>3513</th>\n",
       "      <td>Bentayga</td>\n",
       "      <td>Dammam</td>\n",
       "      <td>Bentley</td>\n",
       "      <td>Automatic</td>\n",
       "      <td>Saudi</td>\n",
       "      <td>Full</td>\n",
       "    </tr>\n",
       "    <tr>\n",
       "      <th>4684</th>\n",
       "      <td>G</td>\n",
       "      <td>Riyadh</td>\n",
       "      <td>Mercedes</td>\n",
       "      <td>Automatic</td>\n",
       "      <td>Other</td>\n",
       "      <td>Full</td>\n",
       "    </tr>\n",
       "    <tr>\n",
       "      <th>4273</th>\n",
       "      <td>S</td>\n",
       "      <td>Dammam</td>\n",
       "      <td>Mercedes</td>\n",
       "      <td>Automatic</td>\n",
       "      <td>Gulf Arabic</td>\n",
       "      <td>Full</td>\n",
       "    </tr>\n",
       "    <tr>\n",
       "      <th>2120</th>\n",
       "      <td>Ghost</td>\n",
       "      <td>Dammam</td>\n",
       "      <td>Rolls-Royce</td>\n",
       "      <td>Automatic</td>\n",
       "      <td>Saudi</td>\n",
       "      <td>Full</td>\n",
       "    </tr>\n",
       "    <tr>\n",
       "      <th>4653</th>\n",
       "      <td>Range Rover</td>\n",
       "      <td>Riyadh</td>\n",
       "      <td>Land Rover</td>\n",
       "      <td>Automatic</td>\n",
       "      <td>Other</td>\n",
       "      <td>Full</td>\n",
       "    </tr>\n",
       "  </tbody>\n",
       "</table>\n",
       "</div>"
      ],
      "text/plain": [
       "             Type  Region         Make  Gear_Type       Origin Options\n",
       "3513     Bentayga  Dammam      Bentley  Automatic        Saudi    Full\n",
       "4684            G  Riyadh     Mercedes  Automatic        Other    Full\n",
       "4273            S  Dammam     Mercedes  Automatic  Gulf Arabic    Full\n",
       "2120        Ghost  Dammam  Rolls-Royce  Automatic        Saudi    Full\n",
       "4653  Range Rover  Riyadh   Land Rover  Automatic        Other    Full"
      ]
     },
     "execution_count": 573,
     "metadata": {},
     "output_type": "execute_result"
    }
   ],
   "source": [
    "# View all categorical variables\n",
    "\n",
    "categorical_columns = df_model.select_dtypes(include=['object'])\n",
    "categorical_columns.head()"
   ]
  },
  {
   "cell_type": "code",
   "execution_count": 587,
   "metadata": {},
   "outputs": [
    {
     "data": {
      "text/plain": [
       "<matplotlib.axes._subplots.AxesSubplot at 0x23f1245c520>"
      ]
     },
     "execution_count": 587,
     "metadata": {},
     "output_type": "execute_result"
    },
    {
     "data": {
      "image/png": "[encoded data removed]",
      "text/plain": [
       "<Figure size 1080x360 with 2 Axes>"
      ]
     },
     "metadata": {
      "needs_background": "light"
     },
     "output_type": "display_data"
    }
   ],
   "source": [
    "plt.figure(figsize=(15,5))\n",
    "plt.subplot(1,2,1)\n",
    "sns.boxplot(x=df_model.Options, y=df_model.Price, palette=(\"cubehelix\"))\n",
    "\n",
    "plt.subplot(1,2,2)\n",
    "sns.boxplot(x=df_model.Gear_Type, y=df_model.Price, palette=(\"cubehelix\"))"
   ]
  },
  {
   "cell_type": "markdown",
   "metadata": {},
   "source": [
    "Insights :\n",
    "- Full Options has higher spread out in price compared to the other\n",
    "- Automatic Gear_Type has higher spread out in price compared to the other"
   ]
  },
  {
   "cell_type": "code",
   "execution_count": 588,
   "metadata": {},
   "outputs": [
    {
     "data": {
      "text/plain": [
       "<Figure size 1080x504 with 0 Axes>"
      ]
     },
     "metadata": {},
     "output_type": "display_data"
    },
    {
     "data": {
      "image/png": "[encoded data removed]",
      "text/plain": [
       "<Figure size 1296x360 with 3 Axes>"
      ]
     },
     "metadata": {
      "needs_background": "light"
     },
     "output_type": "display_data"
    }
   ],
   "source": [
    "plt.figure(figsize=(15, 7))\n",
    "sns.pairplot(df_model, x_vars=['Year', 'Mileage', 'Engine_Size'], y_vars='Price',size=5, aspect=1.2, kind='scatter')\n",
    "plt.show()"
   ]
  },
  {
   "cell_type": "markdown",
   "metadata": {},
   "source": [
    "Insights :\n",
    "- Year of manufacting seems to have a positive correlation with price, which is expected\n",
    "- Mileage appears to have a negative correlation with price\n",
    "- Engine_Size have a week correlation with the price"
   ]
  },
  {
   "cell_type": "markdown",
   "metadata": {},
   "source": [
    "**Data Correlation**"
   ]
  },
  {
   "cell_type": "code",
   "execution_count": 589,
   "metadata": {},
   "outputs": [
    {
     "data": {
      "image/png": "[encoded data removed]",
      "text/plain": [
       "<Figure size 1080x720 with 2 Axes>"
      ]
     },
     "metadata": {
      "needs_background": "light"
     },
     "output_type": "display_data"
    }
   ],
   "source": [
    "# Correlation matrix\n",
    "plt.figure(figsize=(15, 10))\n",
    "palette=sns.diverging_palette(20, 220, n=256)\n",
    "corr = df_model.corr(method='spearman')\n",
    "sns.heatmap(corr, annot=True, fmt='.2f', cmap=palette, square=True, linewidths=.5)\n",
    "plt.title('Correlation Matrix', size=15, weight='bold');"
   ]
  },
  {
   "cell_type": "markdown",
   "metadata": {},
   "source": [
    "As we can see in the Correlation Matrix, there is a high correlation between `Mileage` and `Year` this is because Mileage has it Year and will continue-up year by year. Also we can see that `Price` is more relies on `Year` and `Engine-Size`."
   ]
  },
  {
   "cell_type": "markdown",
   "metadata": {},
   "source": [
    "---"
   ]
  },
  {
   "cell_type": "markdown",
   "metadata": {},
   "source": [
    "## 5. Feature Engineering"
   ]
  },
  {
   "cell_type": "markdown",
   "metadata": {},
   "source": [
    "Feature engineering is a machine learning technique that leverages data to create new variables that aren't in the training set. It can produce new features or not, with the goal of simplifying and speeding up data transformations while also enhancing model accuracy."
   ]
  },
  {
   "cell_type": "code",
   "execution_count": 590,
   "metadata": {},
   "outputs": [],
   "source": [
    "#Select the necessary data on dataset\n",
    "df_fe = df_model[['Make','Year', 'Options','Engine_Size','Gear_Type', 'Mileage', 'Price']]"
   ]
  },
  {
   "cell_type": "code",
   "execution_count": 591,
   "metadata": {},
   "outputs": [
    {
     "data": {
      "text/html": [
       "<div>\n",
       "<style scoped>\n",
       "    .dataframe tbody tr th:only-of-type {\n",
       "        vertical-align: middle;\n",
       "    }\n",
       "\n",
       "    .dataframe tbody tr th {\n",
       "        vertical-align: top;\n",
       "    }\n",
       "\n",
       "    .dataframe thead th {\n",
       "        text-align: right;\n",
       "    }\n",
       "</style>\n",
       "<table border=\"1\" class=\"dataframe\">\n",
       "  <thead>\n",
       "    <tr style=\"text-align: right;\">\n",
       "      <th></th>\n",
       "      <th>Make</th>\n",
       "      <th>Year</th>\n",
       "      <th>Options</th>\n",
       "      <th>Engine_Size</th>\n",
       "      <th>Gear_Type</th>\n",
       "      <th>Mileage</th>\n",
       "      <th>Price</th>\n",
       "    </tr>\n",
       "  </thead>\n",
       "  <tbody>\n",
       "    <tr>\n",
       "      <th>3513</th>\n",
       "      <td>Bentley</td>\n",
       "      <td>2019</td>\n",
       "      <td>Full</td>\n",
       "      <td>6.0</td>\n",
       "      <td>Automatic</td>\n",
       "      <td>13000</td>\n",
       "      <td>850000</td>\n",
       "    </tr>\n",
       "    <tr>\n",
       "      <th>4684</th>\n",
       "      <td>Mercedes</td>\n",
       "      <td>2019</td>\n",
       "      <td>Full</td>\n",
       "      <td>4.0</td>\n",
       "      <td>Automatic</td>\n",
       "      <td>39000</td>\n",
       "      <td>800000</td>\n",
       "    </tr>\n",
       "    <tr>\n",
       "      <th>4273</th>\n",
       "      <td>Mercedes</td>\n",
       "      <td>2021</td>\n",
       "      <td>Full</td>\n",
       "      <td>3.0</td>\n",
       "      <td>Automatic</td>\n",
       "      <td>2500</td>\n",
       "      <td>748000</td>\n",
       "    </tr>\n",
       "    <tr>\n",
       "      <th>2120</th>\n",
       "      <td>Rolls-Royce</td>\n",
       "      <td>2016</td>\n",
       "      <td>Full</td>\n",
       "      <td>6.0</td>\n",
       "      <td>Automatic</td>\n",
       "      <td>40000</td>\n",
       "      <td>620000</td>\n",
       "    </tr>\n",
       "    <tr>\n",
       "      <th>4653</th>\n",
       "      <td>Land Rover</td>\n",
       "      <td>2019</td>\n",
       "      <td>Full</td>\n",
       "      <td>5.0</td>\n",
       "      <td>Automatic</td>\n",
       "      <td>4200</td>\n",
       "      <td>599000</td>\n",
       "    </tr>\n",
       "    <tr>\n",
       "      <th>...</th>\n",
       "      <td>...</td>\n",
       "      <td>...</td>\n",
       "      <td>...</td>\n",
       "      <td>...</td>\n",
       "      <td>...</td>\n",
       "      <td>...</td>\n",
       "      <td>...</td>\n",
       "    </tr>\n",
       "    <tr>\n",
       "      <th>62</th>\n",
       "      <td>Mercedes</td>\n",
       "      <td>1986</td>\n",
       "      <td>Full</td>\n",
       "      <td>3.0</td>\n",
       "      <td>Automatic</td>\n",
       "      <td>500000</td>\n",
       "      <td>5500</td>\n",
       "    </tr>\n",
       "    <tr>\n",
       "      <th>3052</th>\n",
       "      <td>Ford</td>\n",
       "      <td>2003</td>\n",
       "      <td>Semi Full</td>\n",
       "      <td>5.4</td>\n",
       "      <td>Automatic</td>\n",
       "      <td>400000</td>\n",
       "      <td>5000</td>\n",
       "    </tr>\n",
       "    <tr>\n",
       "      <th>3482</th>\n",
       "      <td>Chevrolet</td>\n",
       "      <td>2006</td>\n",
       "      <td>Standard</td>\n",
       "      <td>3.6</td>\n",
       "      <td>Automatic</td>\n",
       "      <td>380000</td>\n",
       "      <td>5000</td>\n",
       "    </tr>\n",
       "    <tr>\n",
       "      <th>2612</th>\n",
       "      <td>GMC</td>\n",
       "      <td>1990</td>\n",
       "      <td>Semi Full</td>\n",
       "      <td>3.5</td>\n",
       "      <td>Automatic</td>\n",
       "      <td>140000</td>\n",
       "      <td>5000</td>\n",
       "    </tr>\n",
       "    <tr>\n",
       "      <th>693</th>\n",
       "      <td>Hyundai</td>\n",
       "      <td>2005</td>\n",
       "      <td>Standard</td>\n",
       "      <td>1.5</td>\n",
       "      <td>Manual</td>\n",
       "      <td>294602</td>\n",
       "      <td>5000</td>\n",
       "    </tr>\n",
       "  </tbody>\n",
       "</table>\n",
       "<p>3734 rows × 7 columns</p>\n",
       "</div>"
      ],
      "text/plain": [
       "             Make  Year    Options  Engine_Size  Gear_Type  Mileage   Price\n",
       "3513      Bentley  2019       Full          6.0  Automatic    13000  850000\n",
       "4684     Mercedes  2019       Full          4.0  Automatic    39000  800000\n",
       "4273     Mercedes  2021       Full          3.0  Automatic     2500  748000\n",
       "2120  Rolls-Royce  2016       Full          6.0  Automatic    40000  620000\n",
       "4653   Land Rover  2019       Full          5.0  Automatic     4200  599000\n",
       "...           ...   ...        ...          ...        ...      ...     ...\n",
       "62       Mercedes  1986       Full          3.0  Automatic   500000    5500\n",
       "3052         Ford  2003  Semi Full          5.4  Automatic   400000    5000\n",
       "3482    Chevrolet  2006   Standard          3.6  Automatic   380000    5000\n",
       "2612          GMC  1990  Semi Full          3.5  Automatic   140000    5000\n",
       "693       Hyundai  2005   Standard          1.5     Manual   294602    5000\n",
       "\n",
       "[3734 rows x 7 columns]"
      ]
     },
     "execution_count": 591,
     "metadata": {},
     "output_type": "execute_result"
    }
   ],
   "source": [
    "df_fe"
   ]
  },
  {
   "cell_type": "markdown",
   "metadata": {},
   "source": [
    "**Encoding**\n",
    "\n",
    "Encoding is the process of putting a sequence of characters (letters, numbers, punctuation, and certain symbols) into a specialized format for processed / undertanding by other application. Since we're using categorical variable on our model, we must encode this categorical variable to numerical first so the function can processed our categorical variable."
   ]
  },
  {
   "cell_type": "code",
   "execution_count": 592,
   "metadata": {},
   "outputs": [
    {
     "data": {
      "text/plain": [
       "Make             56\n",
       "Year             41\n",
       "Options           3\n",
       "Engine_Size      65\n",
       "Gear_Type         2\n",
       "Mileage        1308\n",
       "Price           403\n",
       "dtype: int64"
      ]
     },
     "execution_count": 592,
     "metadata": {},
     "output_type": "execute_result"
    }
   ],
   "source": [
    "df_fe.nunique()"
   ]
  },
  {
   "cell_type": "markdown",
   "metadata": {},
   "source": [
    "As a knowledge and based on correlation, we will encode (dummies) our categories data that have a correlation with car price such as Options, Gear_Type and Make. These features are based on our knowledge\n",
    "- A price of car really depends on Options either it Full, Semi Full or standard\n",
    "- Gear Type of car made a really impact on the price itself. Commonly, automatic car is more picey than manual type\n",
    "- As we know, a price of car depends on it brand, cause we expected that a nice brand made a value on a price\n",
    "\n",
    "Based on those reasons, we decided to made dummies on Options, Gear_Type and Make"
   ]
  },
  {
   "cell_type": "code",
   "execution_count": 372,
   "metadata": {},
   "outputs": [
    {
     "data": {
      "text/plain": [
       "(3734, 61)"
      ]
     },
     "execution_count": 372,
     "metadata": {},
     "output_type": "execute_result"
    }
   ],
   "source": [
    "# Dummies the variable that might have a best correlation\n",
    "cat_col = ['Options', 'Gear_Type', 'Make']\n",
    "dummies = pd.get_dummies(df_fe[cat_col])\n",
    "dummies.shape"
   ]
  },
  {
   "cell_type": "code",
   "execution_count": 373,
   "metadata": {},
   "outputs": [
    {
     "data": {
      "text/plain": [
       "(3734, 68)"
      ]
     },
     "execution_count": 373,
     "metadata": {},
     "output_type": "execute_result"
    }
   ],
   "source": [
    "df_fe = pd.concat([df_fe, dummies], axis = 1)\n",
    "df_fe.shape"
   ]
  },
  {
   "cell_type": "code",
   "execution_count": 374,
   "metadata": {},
   "outputs": [
    {
     "data": {
      "text/plain": [
       "(3734, 65)"
      ]
     },
     "execution_count": 374,
     "metadata": {},
     "output_type": "execute_result"
    }
   ],
   "source": [
    "# Drop the original cat variables as dummies are already created\n",
    "\n",
    "df_fe.drop(cat_col, axis = 1, inplace = True)\n",
    "df_fe.shape"
   ]
  },
  {
   "cell_type": "code",
   "execution_count": 375,
   "metadata": {},
   "outputs": [
    {
     "data": {
      "text/html": [
       "<div>\n",
       "<style scoped>\n",
       "    .dataframe tbody tr th:only-of-type {\n",
       "        vertical-align: middle;\n",
       "    }\n",
       "\n",
       "    .dataframe tbody tr th {\n",
       "        vertical-align: top;\n",
       "    }\n",
       "\n",
       "    .dataframe thead th {\n",
       "        text-align: right;\n",
       "    }\n",
       "</style>\n",
       "<table border=\"1\" class=\"dataframe\">\n",
       "  <thead>\n",
       "    <tr style=\"text-align: right;\">\n",
       "      <th></th>\n",
       "      <th>Year</th>\n",
       "      <th>Engine_Size</th>\n",
       "      <th>Mileage</th>\n",
       "      <th>Price</th>\n",
       "      <th>Options_Full</th>\n",
       "      <th>Options_Semi Full</th>\n",
       "      <th>Options_Standard</th>\n",
       "      <th>Gear_Type_Automatic</th>\n",
       "      <th>Gear_Type_Manual</th>\n",
       "      <th>Make_Aston Martin</th>\n",
       "      <th>...</th>\n",
       "      <th>Make_Peugeot</th>\n",
       "      <th>Make_Porsche</th>\n",
       "      <th>Make_Renault</th>\n",
       "      <th>Make_Rolls-Royce</th>\n",
       "      <th>Make_Suzuki</th>\n",
       "      <th>Make_Toyota</th>\n",
       "      <th>Make_Victory Auto</th>\n",
       "      <th>Make_Volkswagen</th>\n",
       "      <th>Make_Zhengzhou</th>\n",
       "      <th>Make_Škoda</th>\n",
       "    </tr>\n",
       "  </thead>\n",
       "  <tbody>\n",
       "    <tr>\n",
       "      <th>3513</th>\n",
       "      <td>2019</td>\n",
       "      <td>6.0</td>\n",
       "      <td>13000</td>\n",
       "      <td>850000</td>\n",
       "      <td>1</td>\n",
       "      <td>0</td>\n",
       "      <td>0</td>\n",
       "      <td>1</td>\n",
       "      <td>0</td>\n",
       "      <td>0</td>\n",
       "      <td>...</td>\n",
       "      <td>0</td>\n",
       "      <td>0</td>\n",
       "      <td>0</td>\n",
       "      <td>0</td>\n",
       "      <td>0</td>\n",
       "      <td>0</td>\n",
       "      <td>0</td>\n",
       "      <td>0</td>\n",
       "      <td>0</td>\n",
       "      <td>0</td>\n",
       "    </tr>\n",
       "    <tr>\n",
       "      <th>4684</th>\n",
       "      <td>2019</td>\n",
       "      <td>4.0</td>\n",
       "      <td>39000</td>\n",
       "      <td>800000</td>\n",
       "      <td>1</td>\n",
       "      <td>0</td>\n",
       "      <td>0</td>\n",
       "      <td>1</td>\n",
       "      <td>0</td>\n",
       "      <td>0</td>\n",
       "      <td>...</td>\n",
       "      <td>0</td>\n",
       "      <td>0</td>\n",
       "      <td>0</td>\n",
       "      <td>0</td>\n",
       "      <td>0</td>\n",
       "      <td>0</td>\n",
       "      <td>0</td>\n",
       "      <td>0</td>\n",
       "      <td>0</td>\n",
       "      <td>0</td>\n",
       "    </tr>\n",
       "    <tr>\n",
       "      <th>4273</th>\n",
       "      <td>2021</td>\n",
       "      <td>3.0</td>\n",
       "      <td>2500</td>\n",
       "      <td>748000</td>\n",
       "      <td>1</td>\n",
       "      <td>0</td>\n",
       "      <td>0</td>\n",
       "      <td>1</td>\n",
       "      <td>0</td>\n",
       "      <td>0</td>\n",
       "      <td>...</td>\n",
       "      <td>0</td>\n",
       "      <td>0</td>\n",
       "      <td>0</td>\n",
       "      <td>0</td>\n",
       "      <td>0</td>\n",
       "      <td>0</td>\n",
       "      <td>0</td>\n",
       "      <td>0</td>\n",
       "      <td>0</td>\n",
       "      <td>0</td>\n",
       "    </tr>\n",
       "    <tr>\n",
       "      <th>2120</th>\n",
       "      <td>2016</td>\n",
       "      <td>6.0</td>\n",
       "      <td>40000</td>\n",
       "      <td>620000</td>\n",
       "      <td>1</td>\n",
       "      <td>0</td>\n",
       "      <td>0</td>\n",
       "      <td>1</td>\n",
       "      <td>0</td>\n",
       "      <td>0</td>\n",
       "      <td>...</td>\n",
       "      <td>0</td>\n",
       "      <td>0</td>\n",
       "      <td>0</td>\n",
       "      <td>1</td>\n",
       "      <td>0</td>\n",
       "      <td>0</td>\n",
       "      <td>0</td>\n",
       "      <td>0</td>\n",
       "      <td>0</td>\n",
       "      <td>0</td>\n",
       "    </tr>\n",
       "    <tr>\n",
       "      <th>4653</th>\n",
       "      <td>2019</td>\n",
       "      <td>5.0</td>\n",
       "      <td>4200</td>\n",
       "      <td>599000</td>\n",
       "      <td>1</td>\n",
       "      <td>0</td>\n",
       "      <td>0</td>\n",
       "      <td>1</td>\n",
       "      <td>0</td>\n",
       "      <td>0</td>\n",
       "      <td>...</td>\n",
       "      <td>0</td>\n",
       "      <td>0</td>\n",
       "      <td>0</td>\n",
       "      <td>0</td>\n",
       "      <td>0</td>\n",
       "      <td>0</td>\n",
       "      <td>0</td>\n",
       "      <td>0</td>\n",
       "      <td>0</td>\n",
       "      <td>0</td>\n",
       "    </tr>\n",
       "  </tbody>\n",
       "</table>\n",
       "<p>5 rows × 65 columns</p>\n",
       "</div>"
      ],
      "text/plain": [
       "      Year  Engine_Size  Mileage   Price  Options_Full  Options_Semi Full  \\\n",
       "3513  2019          6.0    13000  850000             1                  0   \n",
       "4684  2019          4.0    39000  800000             1                  0   \n",
       "4273  2021          3.0     2500  748000             1                  0   \n",
       "2120  2016          6.0    40000  620000             1                  0   \n",
       "4653  2019          5.0     4200  599000             1                  0   \n",
       "\n",
       "      Options_Standard  Gear_Type_Automatic  Gear_Type_Manual  \\\n",
       "3513                 0                    1                 0   \n",
       "4684                 0                    1                 0   \n",
       "4273                 0                    1                 0   \n",
       "2120                 0                    1                 0   \n",
       "4653                 0                    1                 0   \n",
       "\n",
       "      Make_Aston Martin  ...  Make_Peugeot  Make_Porsche  Make_Renault  \\\n",
       "3513                  0  ...             0             0             0   \n",
       "4684                  0  ...             0             0             0   \n",
       "4273                  0  ...             0             0             0   \n",
       "2120                  0  ...             0             0             0   \n",
       "4653                  0  ...             0             0             0   \n",
       "\n",
       "      Make_Rolls-Royce  Make_Suzuki  Make_Toyota  Make_Victory Auto  \\\n",
       "3513                 0            0            0                  0   \n",
       "4684                 0            0            0                  0   \n",
       "4273                 0            0            0                  0   \n",
       "2120                 1            0            0                  0   \n",
       "4653                 0            0            0                  0   \n",
       "\n",
       "      Make_Volkswagen  Make_Zhengzhou  Make_Škoda  \n",
       "3513                0               0           0  \n",
       "4684                0               0           0  \n",
       "4273                0               0           0  \n",
       "2120                0               0           0  \n",
       "4653                0               0           0  \n",
       "\n",
       "[5 rows x 65 columns]"
      ]
     },
     "execution_count": 375,
     "metadata": {},
     "output_type": "execute_result"
    }
   ],
   "source": [
    "df_fe.head()"
   ]
  },
  {
   "cell_type": "markdown",
   "metadata": {},
   "source": [
    "---"
   ]
  },
  {
   "cell_type": "markdown",
   "metadata": {},
   "source": [
    "## 6. Modeling"
   ]
  },
  {
   "cell_type": "markdown",
   "metadata": {},
   "source": [
    "In this step, we will create a model to predict our dataset. The best model is the model which can get the highest accuraccy and get the best stable on that. As the final, we will compare and choose what is the best model based on the value etc."
   ]
  },
  {
   "cell_type": "markdown",
   "metadata": {},
   "source": [
    "**Import Libraries**"
   ]
  },
  {
   "cell_type": "code",
   "execution_count": 415,
   "metadata": {},
   "outputs": [],
   "source": [
    "# Import libraries for machine learning\n",
    "from sklearn.linear_model import LinearRegression\n",
    "from sklearn.ensemble import RandomForestRegressor\n",
    "from sklearn.neighbors import KNeighborsRegressor\n",
    "from sklearn.tree import DecisionTreeRegressor\n",
    "from xgboost.sklearn import XGBRegressor\n",
    "from sklearn.metrics import r2_score, mean_squared_error, f1_score, precision_score, recall_score\n",
    "from math import sqrt"
   ]
  },
  {
   "cell_type": "markdown",
   "metadata": {},
   "source": [
    "**Splitting dataset into Traing and Testing sets**"
   ]
  },
  {
   "cell_type": "code",
   "execution_count": 377,
   "metadata": {},
   "outputs": [],
   "source": [
    "from sklearn.model_selection import train_test_split, cross_val_score, RandomizedSearchCV, GridSearchCV, KFold\n",
    "\n",
    "X = df_fe.drop(['Price'] , axis=1)\n",
    "y = df_fe['Price']\n",
    "X_train, X_test, y_train, y_test = train_test_split(X, y, test_size=0.24, random_state=90000)"
   ]
  },
  {
   "cell_type": "markdown",
   "metadata": {},
   "source": [
    "**- Linear Regression**"
   ]
  },
  {
   "cell_type": "code",
   "execution_count": 378,
   "metadata": {},
   "outputs": [],
   "source": [
    "# Define the model\n",
    "lr = LinearRegression()\n",
    "lr.fit(X_train, y_train)\n",
    "preds_lr_test = lr.predict(X_test)"
   ]
  },
  {
   "cell_type": "code",
   "execution_count": 680,
   "metadata": {},
   "outputs": [
    {
     "name": "stdout",
     "output_type": "stream",
     "text": [
      "R-squared Percentage of Linear Regression Model : 59.62953474889532 %\n",
      "MSE of Linear Regression Model : 1739672721.8866785\n",
      "RMSE of Linear Regression Model : 41709.38409862556\n"
     ]
    }
   ],
   "source": [
    "# Now lets see if our model is good\n",
    "print('R-squared Percentage of Linear Regression Model :',(r2_score(y_test, preds_lr_test))*100,'%')\n",
    "print('MSE of Linear Regression Model :',(mean_squared_error(y_test, preds_lr_test)))\n",
    "print('RMSE of Linear Regression Model :',sqrt(mean_squared_error(y_test, preds_lr_test)))"
   ]
  },
  {
   "cell_type": "markdown",
   "metadata": {},
   "source": [
    "**- Random Forest Regressor**"
   ]
  },
  {
   "cell_type": "code",
   "execution_count": 380,
   "metadata": {},
   "outputs": [],
   "source": [
    "# Define the model\n",
    "rf = RandomForestRegressor()\n",
    "rf.fit(X_train, y_train)\n",
    "preds_rf_test = rf.predict(X_test)"
   ]
  },
  {
   "cell_type": "code",
   "execution_count": 676,
   "metadata": {},
   "outputs": [
    {
     "name": "stdout",
     "output_type": "stream",
     "text": [
      "R-squared Percentage of Random Forest Regressor Model : 84.29058203017524 %\n",
      "MSE of Random Forest Regressor Model : 676961381.2680224\n",
      "RMSE of Random Forest Regressor Model : 26018.481532710983\n"
     ]
    }
   ],
   "source": [
    "# Now lets see if our model is good\n",
    "print('R-squared Percentage of Random Forest Regressor Model :',(r2_score(y_test, preds_rf_test))*100,'%')\n",
    "print('MSE of Random Forest Regressor Model :',(mean_squared_error(y_test, preds_rf_test)))\n",
    "print('RMSE of Random Forest Regressor Model :',sqrt(mean_squared_error(y_test, preds_rf_test)))"
   ]
  },
  {
   "cell_type": "markdown",
   "metadata": {},
   "source": [
    "**- KNeighbors Regressor**"
   ]
  },
  {
   "cell_type": "code",
   "execution_count": 382,
   "metadata": {},
   "outputs": [],
   "source": [
    "# Define the model\n",
    "knn = KNeighborsRegressor()\n",
    "knn.fit(X_train, y_train)\n",
    "preds_knn_test = knn.predict(X_test)"
   ]
  },
  {
   "cell_type": "code",
   "execution_count": 677,
   "metadata": {},
   "outputs": [
    {
     "name": "stdout",
     "output_type": "stream",
     "text": [
      "R-squared Percentage of KNeighbors Regressor Model : 12.63182034600101 %\n",
      "MSE of KNeighbors Regressor Model : 3764931564.686332\n",
      "RMSE of KNeighbors Regressor Model : 61359.03816624192\n"
     ]
    }
   ],
   "source": [
    "# Now lets see if our model is good\n",
    "print('R-squared Percentage of KNeighbors Regressor Model :',(r2_score(y_test, preds_knn_test))*100,'%')\n",
    "print('MSE of KNeighbors Regressor Model :',(mean_squared_error(y_test, preds_knn_test)))\n",
    "print('RMSE of KNeighbors Regressor Model :',sqrt(mean_squared_error(y_test, preds_knn_test)))"
   ]
  },
  {
   "cell_type": "markdown",
   "metadata": {},
   "source": [
    "**- Decision Tree Regressor**"
   ]
  },
  {
   "cell_type": "code",
   "execution_count": 384,
   "metadata": {},
   "outputs": [],
   "source": [
    "# Define the model\n",
    "dt = DecisionTreeRegressor()\n",
    "dt.fit(X_train, y_train)\n",
    "preds_dt_test = dt.predict(X_test)"
   ]
  },
  {
   "cell_type": "code",
   "execution_count": 678,
   "metadata": {},
   "outputs": [
    {
     "name": "stdout",
     "output_type": "stream",
     "text": [
      "R-squared Percentage of Decision Tree Regressor Model : 70.05689855268578 %\n",
      "MSE of Decision Tree Regressor Model : 1290329365.1081383\n",
      "RMSE of Decision Tree Regressor Model : 35921.15484095881\n"
     ]
    }
   ],
   "source": [
    "# Now lets see if our model is good\n",
    "print('R-squared Percentage of Decision Tree Regressor Model :',(r2_score(y_test, preds_dt_test))*100,'%')\n",
    "print('MSE of Decision Tree Regressor Model :',(mean_squared_error(y_test, preds_dt_test)))\n",
    "print('RMSE of Decision Tree Regressor Model :',sqrt(mean_squared_error(y_test, preds_dt_test)))"
   ]
  },
  {
   "cell_type": "markdown",
   "metadata": {},
   "source": [
    "**- XGB Regressor**"
   ]
  },
  {
   "cell_type": "code",
   "execution_count": 386,
   "metadata": {},
   "outputs": [],
   "source": [
    "# Define the model\n",
    "xgb = XGBRegressor()\n",
    "xgb.fit(X_train, y_train)\n",
    "preds_xgb_test = xgb.predict(X_test)"
   ]
  },
  {
   "cell_type": "code",
   "execution_count": 679,
   "metadata": {},
   "outputs": [
    {
     "name": "stdout",
     "output_type": "stream",
     "text": [
      "R-squared Percentage of XGB Regressor Model : 83.82671050765302 %\n",
      "MSE of XGB Regressor Model : 696950861.923559\n",
      "RMSE of XGB Regressor Model : 26399.826929803137\n"
     ]
    }
   ],
   "source": [
    "# Now lets see if our model is good\n",
    "print('R-squared Percentage of XGB Regressor Model :',(r2_score(y_test, preds_xgb_test))*100,'%')\n",
    "print('MSE of XGB Regressor Model :',(mean_squared_error(y_test, preds_xgb_test)))\n",
    "print('RMSE of XGB Regressor Model :',sqrt(mean_squared_error(y_test, preds_xgb_test)))"
   ]
  },
  {
   "cell_type": "markdown",
   "metadata": {},
   "source": [
    "**Summary**"
   ]
  },
  {
   "cell_type": "markdown",
   "metadata": {},
   "source": [
    "As we can see, that the best model is on Random Forest Regressor with R-squared (Percentage) on 84.29% and the second is XGB Regressor on 83.82%. With his val we decided to select the Random Forest as our Model on this Capstone.\n",
    "\n",
    "Let's we see the result of Hyperparameter Tuning of Random Forest Regressor on our model"
   ]
  },
  {
   "cell_type": "markdown",
   "metadata": {},
   "source": [
    "**Hyperparameter Tuning**"
   ]
  },
  {
   "cell_type": "markdown",
   "metadata": {},
   "source": [
    "In this step, we will Hyperparameter Tuning our model with this [Source4](https://www.kaggle.com/code/arjunprasadsarkhel/simple-random-forest-with-hyperparameter-tuning/notebook#Hyperparameter-tuning-using-RandomizedSearch-CV), [Source5](https://towardsdatascience.com/hyperparameter-tuning-the-random-forest-in-python-using-scikit-learn-28d2aa77dd74) to see the result and comparing it"
   ]
  },
  {
   "cell_type": "code",
   "execution_count": 477,
   "metadata": {},
   "outputs": [],
   "source": [
    "from sklearn.model_selection import RandomizedSearchCV\n",
    "rf_random = RandomizedSearchCV(estimator = rf,param_distributions = random_grid,\n",
    "               n_iter = 100, cv = 5, verbose=2, random_state=35, n_jobs = -1)"
   ]
  },
  {
   "cell_type": "code",
   "execution_count": 478,
   "metadata": {},
   "outputs": [
    {
     "name": "stdout",
     "output_type": "stream",
     "text": [
      "Fitting 5 folds for each of 100 candidates, totalling 500 fits\n"
     ]
    },
    {
     "name": "stderr",
     "output_type": "stream",
     "text": [
      "[Parallel(n_jobs=-1)]: Using backend LokyBackend with 8 concurrent workers.\n",
      "[Parallel(n_jobs=-1)]: Done  25 tasks      | elapsed:    4.2s\n",
      "[Parallel(n_jobs=-1)]: Done 146 tasks      | elapsed:   20.8s\n",
      "[Parallel(n_jobs=-1)]: Done 349 tasks      | elapsed:   45.4s\n",
      "[Parallel(n_jobs=-1)]: Done 500 out of 500 | elapsed:   57.3s finished\n"
     ]
    },
    {
     "data": {
      "text/plain": [
       "RandomizedSearchCV(cv=5, estimator=RandomForestRegressor(), n_iter=100,\n",
       "                   n_jobs=-1,\n",
       "                   param_distributions={'bootstrap': [True, False],\n",
       "                                        'max_depth': [10, 20, 30, 40, 50, 60,\n",
       "                                                      70, 80, 90, 100, 110,\n",
       "                                                      120],\n",
       "                                        'max_features': ['auto', 'sqrt'],\n",
       "                                        'min_samples_leaf': [1, 3, 4],\n",
       "                                        'min_samples_split': [2, 6, 10],\n",
       "                                        'n_estimators': [5, 20, 50, 100]},\n",
       "                   random_state=35, verbose=2)"
      ]
     },
     "execution_count": 478,
     "metadata": {},
     "output_type": "execute_result"
    }
   ],
   "source": [
    "rf_random.fit(X_train, y_train)"
   ]
  },
  {
   "cell_type": "code",
   "execution_count": 479,
   "metadata": {
    "scrolled": true
   },
   "outputs": [
    {
     "name": "stdout",
     "output_type": "stream",
     "text": [
      "Best Parameters:  {'n_estimators': 100, 'min_samples_split': 2, 'min_samples_leaf': 1, 'max_features': 'sqrt', 'max_depth': 120, 'bootstrap': True}  \n",
      "\n"
     ]
    }
   ],
   "source": [
    "# Print the best parameters\n",
    "print ('Best Parameters: ', rf_random.best_params_, ' \\n')"
   ]
  },
  {
   "cell_type": "code",
   "execution_count": 482,
   "metadata": {},
   "outputs": [
    {
     "data": {
      "text/plain": [
       "RandomForestRegressor(max_depth=120, max_features='sqrt')"
      ]
     },
     "execution_count": 482,
     "metadata": {},
     "output_type": "execute_result"
    }
   ],
   "source": [
    "# Using the best parameters\n",
    "randmf = RandomForestRegressor(n_estimators = 100, min_samples_split = 2, min_samples_leaf= 1, max_features = 'sqrt', max_depth= 120, bootstrap=True) \n",
    "randmf.fit(X_train, y_train) "
   ]
  },
  {
   "cell_type": "code",
   "execution_count": 663,
   "metadata": {},
   "outputs": [
    {
     "data": {
      "text/html": [
       "<div>\n",
       "<style scoped>\n",
       "    .dataframe tbody tr th:only-of-type {\n",
       "        vertical-align: middle;\n",
       "    }\n",
       "\n",
       "    .dataframe tbody tr th {\n",
       "        vertical-align: top;\n",
       "    }\n",
       "\n",
       "    .dataframe thead th {\n",
       "        text-align: right;\n",
       "    }\n",
       "</style>\n",
       "<table border=\"1\" class=\"dataframe\">\n",
       "  <thead>\n",
       "    <tr style=\"text-align: right;\">\n",
       "      <th></th>\n",
       "      <th>Before</th>\n",
       "      <th>After</th>\n",
       "    </tr>\n",
       "  </thead>\n",
       "  <tbody>\n",
       "    <tr>\n",
       "      <th>3966</th>\n",
       "      <td>16000</td>\n",
       "      <td>29115.0</td>\n",
       "    </tr>\n",
       "    <tr>\n",
       "      <th>3939</th>\n",
       "      <td>29500</td>\n",
       "      <td>26844.0</td>\n",
       "    </tr>\n",
       "    <tr>\n",
       "      <th>970</th>\n",
       "      <td>25000</td>\n",
       "      <td>37150.0</td>\n",
       "    </tr>\n",
       "    <tr>\n",
       "      <th>3922</th>\n",
       "      <td>20000</td>\n",
       "      <td>29122.5</td>\n",
       "    </tr>\n",
       "    <tr>\n",
       "      <th>3416</th>\n",
       "      <td>82500</td>\n",
       "      <td>93310.0</td>\n",
       "    </tr>\n",
       "    <tr>\n",
       "      <th>...</th>\n",
       "      <td>...</td>\n",
       "      <td>...</td>\n",
       "    </tr>\n",
       "    <tr>\n",
       "      <th>1582</th>\n",
       "      <td>55000</td>\n",
       "      <td>51470.0</td>\n",
       "    </tr>\n",
       "    <tr>\n",
       "      <th>2704</th>\n",
       "      <td>27000</td>\n",
       "      <td>28427.2</td>\n",
       "    </tr>\n",
       "    <tr>\n",
       "      <th>1928</th>\n",
       "      <td>40000</td>\n",
       "      <td>32942.5</td>\n",
       "    </tr>\n",
       "    <tr>\n",
       "      <th>1063</th>\n",
       "      <td>20000</td>\n",
       "      <td>76570.0</td>\n",
       "    </tr>\n",
       "    <tr>\n",
       "      <th>5057</th>\n",
       "      <td>95000</td>\n",
       "      <td>85060.0</td>\n",
       "    </tr>\n",
       "  </tbody>\n",
       "</table>\n",
       "<p>897 rows × 2 columns</p>\n",
       "</div>"
      ],
      "text/plain": [
       "      Before   After\n",
       "3966   16000 29115.0\n",
       "3939   29500 26844.0\n",
       "970    25000 37150.0\n",
       "3922   20000 29122.5\n",
       "3416   82500 93310.0\n",
       "...      ...     ...\n",
       "1582   55000 51470.0\n",
       "2704   27000 28427.2\n",
       "1928   40000 32942.5\n",
       "1063   20000 76570.0\n",
       "5057   95000 85060.0\n",
       "\n",
       "[897 rows x 2 columns]"
      ]
     },
     "execution_count": 663,
     "metadata": {},
     "output_type": "execute_result"
    }
   ],
   "source": [
    "# Comparison the val of prediction Before & After Tuning\n",
    "comparison = pd.DataFrame( { \"Before\": y_test, \n",
    "\"After\": randmf.predict( \n",
    "( X_test ) ) } ) \n",
    "comparison"
   ]
  },
  {
   "cell_type": "code",
   "execution_count": 491,
   "metadata": {},
   "outputs": [
    {
     "name": "stdout",
     "output_type": "stream",
     "text": [
      "Model Performance\n",
      "Average Error: 15527.9289 degrees.\n",
      "Accuracy = 75.13%.\n"
     ]
    }
   ],
   "source": [
    "def evaluate(model, X_train, y_train):\n",
    "    predictions = model.predict(X_test)\n",
    "    errors = abs(predictions - y_test)\n",
    "    mape = 100 * np.mean(errors / y_test)\n",
    "    accuracy = 100 - mape\n",
    "    print('Model Performance')\n",
    "    print('Average Error: {:0.4f} degrees.'.format(np.mean(errors)))\n",
    "    print('Accuracy = {:0.2f}%.'.format(accuracy))\n",
    "    \n",
    "    return accuracy\n",
    "base_model = RandomForestRegressor(n_estimators = 10, random_state = 42)\n",
    "base_model.fit(X_train, y_train)\n",
    "base_accuracy = evaluate(base_model, X_test, y_test)"
   ]
  },
  {
   "cell_type": "markdown",
   "metadata": {},
   "source": [
    "As we can see, the result of accuracy hyperparameter tunning is just on 75.13%. this mean that is way better to doing and get the model on random forest before hyperparameter tuning 84.29%.\n",
    "\n",
    "Now we see the Actual vs Prediction Price on our model (**RANDOM FOREST REGRESSOR - Non Tuning**) below"
   ]
  },
  {
   "cell_type": "code",
   "execution_count": 672,
   "metadata": {},
   "outputs": [
    {
     "data": {
      "image/png": "[encoded data removed]",
      "text/plain": [
       "<Figure size 1080x720 with 1 Axes>"
      ]
     },
     "metadata": {
      "needs_background": "light"
     },
     "output_type": "display_data"
    }
   ],
   "source": [
    "# Actual vs. Prediction Price\n",
    "plt.figure(figsize=(15, 10))\n",
    "plot = sns.scatterplot(y_test, preds_rf_test).set(title='Actual vs. Prediction Price', \n",
    "                                               xlabel='Actual Price', \n",
    "                                               ylabel='Predicted Price');"
   ]
  },
  {
   "cell_type": "markdown",
   "metadata": {},
   "source": [
    "By this Scatter Plot, we can see that our model might be linear to Actual Price (from what we Predicted). But when the Price more than 100000, this plot comes more irregular. We can see that sometime we had a high-predicted price and sometime low after 100000."
   ]
  },
  {
   "cell_type": "markdown",
   "metadata": {},
   "source": [
    "**Feature Importances**\n",
    "\n",
    "Hereby we will see what is the most important feature that influence the price :"
   ]
  },
  {
   "cell_type": "code",
   "execution_count": 644,
   "metadata": {},
   "outputs": [
    {
     "data": {
      "text/html": [
       "<div>\n",
       "<style scoped>\n",
       "    .dataframe tbody tr th:only-of-type {\n",
       "        vertical-align: middle;\n",
       "    }\n",
       "\n",
       "    .dataframe tbody tr th {\n",
       "        vertical-align: top;\n",
       "    }\n",
       "\n",
       "    .dataframe thead th {\n",
       "        text-align: right;\n",
       "    }\n",
       "</style>\n",
       "<table border=\"1\" class=\"dataframe\">\n",
       "  <thead>\n",
       "    <tr style=\"text-align: right;\">\n",
       "      <th></th>\n",
       "      <th>Importance</th>\n",
       "    </tr>\n",
       "    <tr>\n",
       "      <th>Feature</th>\n",
       "      <th></th>\n",
       "    </tr>\n",
       "  </thead>\n",
       "  <tbody>\n",
       "    <tr>\n",
       "      <th>Year</th>\n",
       "      <td>0.8</td>\n",
       "    </tr>\n",
       "    <tr>\n",
       "      <th>Engine_Size</th>\n",
       "      <td>0.6</td>\n",
       "    </tr>\n",
       "    <tr>\n",
       "      <th>Make_Mercedes</th>\n",
       "      <td>0.2</td>\n",
       "    </tr>\n",
       "    <tr>\n",
       "      <th>Options_Full</th>\n",
       "      <td>0.1</td>\n",
       "    </tr>\n",
       "    <tr>\n",
       "      <th>Make_Land Rover</th>\n",
       "      <td>0.1</td>\n",
       "    </tr>\n",
       "  </tbody>\n",
       "</table>\n",
       "</div>"
      ],
      "text/plain": [
       "                 Importance\n",
       "Feature                    \n",
       "Year                    0.8\n",
       "Engine_Size             0.6\n",
       "Make_Mercedes           0.2\n",
       "Options_Full            0.1\n",
       "Make_Land Rover         0.1"
      ]
     },
     "execution_count": 644,
     "metadata": {},
     "output_type": "execute_result"
    }
   ],
   "source": [
    "from sklearn.metrics import r2_score\n",
    "from rfpimp import permutation_importances\n",
    "\n",
    "def r2(rf, X_train, y_train):\n",
    "    return r2_score(y_train, rf.predict(X_train))\n",
    "\n",
    "perm_imp_rfpimp = permutation_importances(rf, X_train, y_train, r2)\n",
    "perm_imp_rfpimp.head(5)"
   ]
  },
  {
   "cell_type": "markdown",
   "metadata": {},
   "source": [
    "---"
   ]
  },
  {
   "cell_type": "markdown",
   "metadata": {},
   "source": [
    "## 7. Conclusion"
   ]
  },
  {
   "cell_type": "markdown",
   "metadata": {},
   "source": [
    "- After we doing the model on our dataset, we can see that `Year` and `Engine_Size` really affect and influence on Used Car Price on Saudi Arabia.\n",
    "- This model using MSE, RMSE and R-squared (Percentage) as evaluation metrics on each regression. Based on the Percentage we can see that model that we made before hyperparameter tuning (random forest regressor) get 84.29% and get the best model than other. \n",
    "- By this model we can predicted that on range 0 - 500000 (based on what we filter on the beginning) and get the best range in under 100000 cause it will be slightly dissorder on the price more than 100000"
   ]
  },
  {
   "cell_type": "markdown",
   "metadata": {},
   "source": [
    "---"
   ]
  },
  {
   "cell_type": "markdown",
   "metadata": {},
   "source": [
    "## 8. Recommendation"
   ]
  },
  {
   "cell_type": "markdown",
   "metadata": {},
   "source": [
    "Things that can be done to develop the model to be more better :\n",
    "\n",
    "1. Make a transform for categorical variables :\n",
    "    - `Type` : since Type had so many unique value and not a sequentially number, we will use `Binary Encoder`\n",
    "    - `Region` : since Region had so many unique value and not a sequentially number, we will use `Binary Encoder`\n",
    "    - `Make` : since Region had so many unique value and not a sequentially number, we will use `Binary Encoder`\n",
    "    - `Gear_Type` : since the Gear_Type had a few of unique value, it can be handled by `One Hot Encoder`\n",
    "    - `Origin` : since the Gear_Type had a few of unique value, it can be handled by `One Hot Encoder`\n",
    "    - `Options` : since the Gear_Type had a few of unique value, it can be handled by `One Hot Encoder`\n",
    "\n",
    "this might be boost our model, but things like region & origin might be not so influence the car price \n",
    "\n",
    "2. As we know, a car might be influence by color & kind (SUV, Sedan etc) of car  as the preliminary of someone to buy. This  corelative variables definitely could be improving the model prediction.\n",
    "\n",
    "\n",
    "3. Our model can be be used for other expansion similar models. Such as to made an update listing price used cars from another country. Or to made a review of Used Cars on Saudi Arabia itself. By the review we can see either worth or not worth to buy the used car itself. This review might be improving the model prediction."
   ]
  },
  {
   "cell_type": "markdown",
   "metadata": {},
   "source": [
    "---"
   ]
  },
  {
   "cell_type": "code",
   "execution_count": 685,
   "metadata": {},
   "outputs": [
    {
     "name": "stdout",
     "output_type": "stream",
     "text": [
      "0.8422651673586975\n"
     ]
    }
   ],
   "source": [
    "# Save model\n",
    "import pickle\n",
    "\n",
    "# Fit the model on training set\n",
    "model = RandomForestRegressor()\n",
    "model.fit(X_train, y_train)\n",
    "\n",
    "# save the model to disk\n",
    "filename = 'finalized_model.sav'\n",
    "pickle.dump(model, open(filename, 'wb'))\n",
    "\n",
    "# some time later...\n",
    " \n",
    "# load the model from disk\n",
    "loaded_model = pickle.load(open(filename, 'rb'))\n",
    "result = loaded_model.score(X_test, y_test)\n",
    "print(result)"
   ]
  },
  {
   "cell_type": "code",
   "execution_count": null,
   "metadata": {},
   "outputs": [],
   "source": []
  }
 ],
 "metadata": {
  "kernelspec": {
   "display_name": "Python 3 (ipykernel)",
   "language": "python",
   "name": "python3"
  },
  "language_info": {
   "codemirror_mode": {
    "name": "ipython",
    "version": 3
   },
   "file_extension": ".py",
   "mimetype": "text/x-python",
   "name": "python",
   "nbconvert_exporter": "python",
   "pygments_lexer": "ipython3",
   "version": "3.10.1"
  }
 },
 "nbformat": 4,
 "nbformat_minor": 4
}
